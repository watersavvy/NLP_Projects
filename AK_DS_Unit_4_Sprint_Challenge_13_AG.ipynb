{
  "cells": [
    {
      "cell_type": "markdown",
      "metadata": {
        "id": "view-in-github",
        "colab_type": "text"
      },
      "source": [
        "<a href=\"https://colab.research.google.com/github/watersavvy/NLP_Projects/blob/main/AK_DS_Unit_4_Sprint_Challenge_13_AG.ipynb\" target=\"_parent\"><img src=\"https://colab.research.google.com/assets/colab-badge.svg\" alt=\"Open In Colab\"/></a>"
      ]
    },
    {
      "cell_type": "markdown",
      "metadata": {
        "deletable": false,
        "editable": false,
        "nbgrader": {
          "cell_type": "markdown",
          "checksum": "f95c5acf8c3e89e0b0e482c04e0b8abf",
          "grade": false,
          "grade_id": "cell-e98be1092b48b377",
          "locked": true,
          "schema_version": 3,
          "solution": false,
          "task": false
        },
        "id": "KLrIu_KJPybT"
      },
      "source": [
        "# Sprint Challenge\n",
        "## *Data Science Sprint 13*\n",
        "\n",
        "After a sprint of Natural Language Processing, you've learned some cool new stuff: how to process text, how turn text into vectors, and how to model topics from documents. Apply your newly acquired skills to one of the most famous NLP datasets out there: [Yelp](https://www.yelp.com/dataset). As part of the job selection process, some of my friends have been asked to create analysis of this dataset, so I want to empower you to have a head start.  \n",
        "\n",
        "The real dataset is massive (almost 8 gigs uncompressed). The data is sampled for you to something more manageable for the Sprint Challenge. You can analyze the full dataset as a stretch goal or after the sprint challenge.\n",
        "\n",
        "## Challenge Objectives\n",
        "Successfully complete all these objectives to earn full credit.\n",
        "\n",
        "**Successful completion is defined as passing all the unit tests in each objective.**  \n",
        "\n",
        "There are 8 total possible points in this sprint challenge.\n",
        "\n",
        "\n",
        "There are more details on each objective further down in the notebook.*\n",
        "* <a href=\"#p1\">Part 1</a>: Write a function to tokenize the yelp reviews\n",
        "* <a href=\"#p2\">Part 2</a>: Create a vector representation of those tokens\n",
        "* <a href=\"#p3\">Part 3</a>: Use your tokens in a classification model on Yelp rating\n",
        "* <a href=\"#p4\">Part 4</a>: Estimate & Interpret a topic model of the Yelp reviews\n",
        "\n",
        "____\n",
        "\n",
        "# Before you submit your notebook you must first\n",
        "\n",
        "1) Restart your notebook's Kernel\n",
        "\n",
        "2) Run all cells sequentially, from top to bottom, so that cell numbers are sequential numbers (i.e. 1,2,3,4,5...)\n",
        "- Easiest way to do this is to click on the **Cell** tab at the top of your notebook and select **Run All** from the drop down menu.\n",
        "\n",
        "3) **Comment out the cell that generates a pyLDAvis visual in objective 4 (see instructions in that section).**\n",
        "____"
      ]
    },
    {
      "cell_type": "markdown",
      "metadata": {
        "deletable": false,
        "editable": false,
        "nbgrader": {
          "cell_type": "markdown",
          "checksum": "a0fb09b9e122fc2f2a2baae91a22a818",
          "grade": false,
          "grade_id": "cell-e6c3d2173420a581",
          "locked": true,
          "schema_version": 3,
          "solution": false,
          "task": false
        },
        "id": "70T8pSESPybY"
      },
      "source": [
        "### Part 0: Import Necessary Packages\n",
        "For this section, you will need to import:\n",
        "- `spacy`\n",
        "- `Pandas`\n",
        "- `Seaborn`\n",
        "- `Matplotlib`\n",
        "- `NearestNeighbors`\n",
        "- `Pipeline`\n",
        "- `TfidfVectorizer`\n",
        "- `KneighborsClassifier`\n",
        "- `GridSearchCV`\n",
        "- `corpora`\n",
        "- `LdaModel`\n",
        "- `gensim`\n",
        "- `re`\n",
        "\n",
        "> **Note: This assignment is optimized to work with these specific packages. You can use import different packages, but note that this may affect how CodeGrade works, and may cause CodeGrade to fail.**"
      ]
    },
    {
      "cell_type": "code",
      "source": [
        "import warnings\n",
        "warnings.filterwarnings(\"ignore\", category=DeprecationWarning)"
      ],
      "metadata": {
        "colab": {
          "base_uri": "https://localhost:8080/"
        },
        "id": "GVzy8ccWfTJj",
        "outputId": "2a8f0664-7c96-4bd2-a378-872644ad8b0b"
      },
      "execution_count": null,
      "outputs": [
        {
          "output_type": "stream",
          "name": "stderr",
          "text": [
            "/usr/local/lib/python3.10/dist-packages/ipykernel/ipkernel.py:283: DeprecationWarning: `should_run_async` will not call `transform_cell` automatically in the future. Please pass the result to `transformed_cell` argument and any exception that happen during thetransform in `preprocessing_exc_tuple` in IPython 7.17 and above.\n",
            "  and should_run_async(code)\n"
          ]
        }
      ]
    },
    {
      "cell_type": "code",
      "source": [
        "#!pip install pyLDAvis==3.3.1"
      ],
      "metadata": {
        "colab": {
          "base_uri": "https://localhost:8080/"
        },
        "id": "i7orwffmpIrk",
        "outputId": "f0430017-e1d5-4f11-99c7-31175ace015b"
      },
      "execution_count": null,
      "outputs": [
        {
          "output_type": "stream",
          "name": "stdout",
          "text": [
            "Requirement already satisfied: pyLDAvis==3.3.1 in /usr/local/lib/python3.10/dist-packages (3.3.1)\n",
            "Requirement already satisfied: numpy>=1.20.0 in /usr/local/lib/python3.10/dist-packages (from pyLDAvis==3.3.1) (1.22.4)\n",
            "Requirement already satisfied: scipy in /usr/local/lib/python3.10/dist-packages (from pyLDAvis==3.3.1) (1.10.1)\n",
            "Requirement already satisfied: pandas>=1.2.0 in /usr/local/lib/python3.10/dist-packages (from pyLDAvis==3.3.1) (1.5.3)\n",
            "Requirement already satisfied: joblib in /usr/local/lib/python3.10/dist-packages (from pyLDAvis==3.3.1) (1.3.1)\n",
            "Requirement already satisfied: jinja2 in /usr/local/lib/python3.10/dist-packages (from pyLDAvis==3.3.1) (3.1.2)\n",
            "Requirement already satisfied: numexpr in /usr/local/lib/python3.10/dist-packages (from pyLDAvis==3.3.1) (2.8.4)\n",
            "Requirement already satisfied: future in /usr/local/lib/python3.10/dist-packages (from pyLDAvis==3.3.1) (0.18.3)\n",
            "Requirement already satisfied: funcy in /usr/local/lib/python3.10/dist-packages (from pyLDAvis==3.3.1) (2.0)\n",
            "Requirement already satisfied: sklearn in /usr/local/lib/python3.10/dist-packages (from pyLDAvis==3.3.1) (0.0.post7)\n",
            "Requirement already satisfied: scikit-learn in /usr/local/lib/python3.10/dist-packages (from pyLDAvis==3.3.1) (1.2.2)\n",
            "Requirement already satisfied: gensim in /usr/local/lib/python3.10/dist-packages (from pyLDAvis==3.3.1) (4.3.1)\n",
            "Requirement already satisfied: setuptools in /usr/local/lib/python3.10/dist-packages (from pyLDAvis==3.3.1) (67.7.2)\n",
            "Requirement already satisfied: python-dateutil>=2.8.1 in /usr/local/lib/python3.10/dist-packages (from pandas>=1.2.0->pyLDAvis==3.3.1) (2.8.2)\n",
            "Requirement already satisfied: pytz>=2020.1 in /usr/local/lib/python3.10/dist-packages (from pandas>=1.2.0->pyLDAvis==3.3.1) (2022.7.1)\n",
            "Requirement already satisfied: smart-open>=1.8.1 in /usr/local/lib/python3.10/dist-packages (from gensim->pyLDAvis==3.3.1) (6.3.0)\n",
            "Requirement already satisfied: MarkupSafe>=2.0 in /usr/local/lib/python3.10/dist-packages (from jinja2->pyLDAvis==3.3.1) (2.1.3)\n",
            "Requirement already satisfied: threadpoolctl>=2.0.0 in /usr/local/lib/python3.10/dist-packages (from scikit-learn->pyLDAvis==3.3.1) (3.2.0)\n",
            "Requirement already satisfied: six>=1.5 in /usr/local/lib/python3.10/dist-packages (from python-dateutil>=2.8.1->pandas>=1.2.0->pyLDAvis==3.3.1) (1.16.0)\n"
          ]
        }
      ]
    },
    {
      "cell_type": "code",
      "source": [
        "import pandas as pd\n",
        "import numpy as np\n",
        "import matplotlib.pyplot as plt\n",
        "import re\n",
        "import seaborn as sns\n",
        "\n",
        "from matplotlib.pyplot import figure\n",
        "from sklearn.feature_extraction.text import CountVectorizer, TfidfVectorizer\n",
        "from sklearn.neighbors import NearestNeighbors\n",
        "from sklearn.neighbors import KNeighborsClassifier\n",
        "from sklearn.pipeline import Pipeline\n",
        "from sklearn.model_selection import GridSearchCV\n",
        "\n",
        "import spacy\n",
        "import gensim\n",
        "import gensim.corpora as corpora\n",
        "from gensim.corpora import Dictionary\n",
        "from gensim.models import LdaModel\n",
        "from sklearn.pipeline import Pipeline\n",
        "import pyLDAvis as pyLDAvis\n",
        "import pyLDAvis.gensim_models\n",
        "from pyLDAvis import gensim_models\n"
      ],
      "metadata": {
        "id": "65nN8vC4JUyW"
      },
      "execution_count": null,
      "outputs": []
    },
    {
      "cell_type": "code",
      "execution_count": null,
      "metadata": {
        "deletable": false,
        "editable": false,
        "nbgrader": {
          "cell_type": "code",
          "checksum": "6b8ad4a1ac317df7b82aced26eee406f",
          "grade": true,
          "grade_id": "cell-be1ef923d085ceb5",
          "locked": true,
          "points": 1,
          "schema_version": 3,
          "solution": false,
          "task": false
        },
        "id": "8uiaNQs3Pyba"
      },
      "outputs": [],
      "source": [
        "# Visible Testing\n",
        "assert pd.__package__ == 'pandas'\n"
      ]
    },
    {
      "cell_type": "markdown",
      "metadata": {
        "deletable": false,
        "editable": false,
        "nbgrader": {
          "cell_type": "markdown",
          "checksum": "11b700564f5d76c1ec246d8fece821c1",
          "grade": false,
          "grade_id": "cell-c94bee05bece8c59",
          "locked": true,
          "schema_version": 3,
          "solution": false,
          "task": false
        },
        "id": "3Iw-Dn0pPyba"
      },
      "source": [
        "\n",
        "\n",
        "### Part 0: Import Data"
      ]
    },
    {
      "cell_type": "code",
      "execution_count": null,
      "metadata": {
        "deletable": false,
        "nbgrader": {
          "cell_type": "code",
          "checksum": "150e28699f961709cb59be5e0f8ddbe0",
          "grade": false,
          "grade_id": "cell-395851cd95d17235",
          "locked": false,
          "schema_version": 3,
          "solution": true,
          "task": false
        },
        "id": "RB6hq2r0Pyba"
      },
      "outputs": [],
      "source": [
        "# Load reviews from URL\n",
        "data_url = 'https://raw.githubusercontent.com/bloominstituteoftechnology/data-science-practice-datasets/main/unit_4/unit1_nlp/review_sample.json'\n",
        "\n",
        "# Import data into a DataFrame named df\n",
        "\n",
        "df = pd.read_json(data_url, lines=True)\n",
        "\n",
        "#raise NotImplementedError()"
      ]
    },
    {
      "cell_type": "code",
      "execution_count": null,
      "metadata": {
        "deletable": false,
        "editable": false,
        "nbgrader": {
          "cell_type": "code",
          "checksum": "356579363f311da83f4ef7abaf3c9212",
          "grade": true,
          "grade_id": "cell-cb5006475e42b8f9",
          "locked": true,
          "points": 1,
          "schema_version": 3,
          "solution": false,
          "task": false
        },
        "id": "Hj_tsZ4NPyba"
      },
      "outputs": [],
      "source": [
        "# Visible Testing\n",
        "assert isinstance(df, pd.DataFrame), 'df is not a DataFrame. Did you import the data into df?'\n",
        "assert df.shape[0] == 10000, 'DataFrame df has the wrong number of rows.'"
      ]
    },
    {
      "cell_type": "code",
      "source": [
        "df.head()"
      ],
      "metadata": {
        "colab": {
          "base_uri": "https://localhost:8080/",
          "height": 206
        },
        "id": "i2ZqYhINYpxX",
        "outputId": "ba0f2e49-2612-4a90-f1d1-e81f6f4a717e"
      },
      "execution_count": null,
      "outputs": [
        {
          "output_type": "execute_result",
          "data": {
            "text/plain": [
              "              business_id  cool                date  funny  \\\n",
              "0  nDuEqIyRc8YKS1q1fX0CZg     1 2015-03-31 16:50:30      0   \n",
              "1  eMYeEapscbKNqUDCx705hg     0 2015-12-16 05:31:03      0   \n",
              "2  6Q7-wkCPc1KF75jZLOTcMw     1 2010-06-20 19:14:48      1   \n",
              "3  k3zrItO4l9hwfLRwHBDc9w     3 2010-07-13 00:33:45      4   \n",
              "4  6hpfRwGlOzbNv7k5eP9rsQ     1 2018-06-30 02:30:01      0   \n",
              "\n",
              "                review_id  stars  \\\n",
              "0  eZs2tpEJtXPwawvHnHZIgQ      1   \n",
              "1  DoQDWJsNbU0KL1O29l_Xug      4   \n",
              "2  DDOdGU7zh56yQHmUnL1idQ      3   \n",
              "3  LfTMUWnfGFMOfOIyJcwLVA      1   \n",
              "4  zJSUdI7bJ8PNJAg4lnl_Gg      4   \n",
              "\n",
              "                                                text  useful  \\\n",
              "0  BEWARE!!! FAKE, FAKE, FAKE....We also own a sm...      10   \n",
              "1  Came here for lunch Togo. Service was quick. S...       0   \n",
              "2  I've been to Vegas dozens of times and had nev...       2   \n",
              "3  We went here on a night where they closed off ...       5   \n",
              "4  3.5 to 4 stars\\n\\nNot bad for the price, $12.9...       5   \n",
              "\n",
              "                  user_id  \n",
              "0  n1LM36qNg4rqGXIcvVXv8w  \n",
              "1  5CgjjDAic2-FAvCtiHpytA  \n",
              "2  BdV-cf3LScmb8kZ7iiBcMA  \n",
              "3  cZZnBqh4gAEy4CdNvJailQ  \n",
              "4  n9QO4ClYAS7h9fpQwa5bhA  "
            ],
            "text/html": [
              "\n",
              "\n",
              "  <div id=\"df-a19d73a9-7416-4b06-96f6-6614960661a7\">\n",
              "    <div class=\"colab-df-container\">\n",
              "      <div>\n",
              "<style scoped>\n",
              "    .dataframe tbody tr th:only-of-type {\n",
              "        vertical-align: middle;\n",
              "    }\n",
              "\n",
              "    .dataframe tbody tr th {\n",
              "        vertical-align: top;\n",
              "    }\n",
              "\n",
              "    .dataframe thead th {\n",
              "        text-align: right;\n",
              "    }\n",
              "</style>\n",
              "<table border=\"1\" class=\"dataframe\">\n",
              "  <thead>\n",
              "    <tr style=\"text-align: right;\">\n",
              "      <th></th>\n",
              "      <th>business_id</th>\n",
              "      <th>cool</th>\n",
              "      <th>date</th>\n",
              "      <th>funny</th>\n",
              "      <th>review_id</th>\n",
              "      <th>stars</th>\n",
              "      <th>text</th>\n",
              "      <th>useful</th>\n",
              "      <th>user_id</th>\n",
              "    </tr>\n",
              "  </thead>\n",
              "  <tbody>\n",
              "    <tr>\n",
              "      <th>0</th>\n",
              "      <td>nDuEqIyRc8YKS1q1fX0CZg</td>\n",
              "      <td>1</td>\n",
              "      <td>2015-03-31 16:50:30</td>\n",
              "      <td>0</td>\n",
              "      <td>eZs2tpEJtXPwawvHnHZIgQ</td>\n",
              "      <td>1</td>\n",
              "      <td>BEWARE!!! FAKE, FAKE, FAKE....We also own a sm...</td>\n",
              "      <td>10</td>\n",
              "      <td>n1LM36qNg4rqGXIcvVXv8w</td>\n",
              "    </tr>\n",
              "    <tr>\n",
              "      <th>1</th>\n",
              "      <td>eMYeEapscbKNqUDCx705hg</td>\n",
              "      <td>0</td>\n",
              "      <td>2015-12-16 05:31:03</td>\n",
              "      <td>0</td>\n",
              "      <td>DoQDWJsNbU0KL1O29l_Xug</td>\n",
              "      <td>4</td>\n",
              "      <td>Came here for lunch Togo. Service was quick. S...</td>\n",
              "      <td>0</td>\n",
              "      <td>5CgjjDAic2-FAvCtiHpytA</td>\n",
              "    </tr>\n",
              "    <tr>\n",
              "      <th>2</th>\n",
              "      <td>6Q7-wkCPc1KF75jZLOTcMw</td>\n",
              "      <td>1</td>\n",
              "      <td>2010-06-20 19:14:48</td>\n",
              "      <td>1</td>\n",
              "      <td>DDOdGU7zh56yQHmUnL1idQ</td>\n",
              "      <td>3</td>\n",
              "      <td>I've been to Vegas dozens of times and had nev...</td>\n",
              "      <td>2</td>\n",
              "      <td>BdV-cf3LScmb8kZ7iiBcMA</td>\n",
              "    </tr>\n",
              "    <tr>\n",
              "      <th>3</th>\n",
              "      <td>k3zrItO4l9hwfLRwHBDc9w</td>\n",
              "      <td>3</td>\n",
              "      <td>2010-07-13 00:33:45</td>\n",
              "      <td>4</td>\n",
              "      <td>LfTMUWnfGFMOfOIyJcwLVA</td>\n",
              "      <td>1</td>\n",
              "      <td>We went here on a night where they closed off ...</td>\n",
              "      <td>5</td>\n",
              "      <td>cZZnBqh4gAEy4CdNvJailQ</td>\n",
              "    </tr>\n",
              "    <tr>\n",
              "      <th>4</th>\n",
              "      <td>6hpfRwGlOzbNv7k5eP9rsQ</td>\n",
              "      <td>1</td>\n",
              "      <td>2018-06-30 02:30:01</td>\n",
              "      <td>0</td>\n",
              "      <td>zJSUdI7bJ8PNJAg4lnl_Gg</td>\n",
              "      <td>4</td>\n",
              "      <td>3.5 to 4 stars\\n\\nNot bad for the price, $12.9...</td>\n",
              "      <td>5</td>\n",
              "      <td>n9QO4ClYAS7h9fpQwa5bhA</td>\n",
              "    </tr>\n",
              "  </tbody>\n",
              "</table>\n",
              "</div>\n",
              "      <button class=\"colab-df-convert\" onclick=\"convertToInteractive('df-a19d73a9-7416-4b06-96f6-6614960661a7')\"\n",
              "              title=\"Convert this dataframe to an interactive table.\"\n",
              "              style=\"display:none;\">\n",
              "\n",
              "  <svg xmlns=\"http://www.w3.org/2000/svg\" height=\"24px\"viewBox=\"0 0 24 24\"\n",
              "       width=\"24px\">\n",
              "    <path d=\"M0 0h24v24H0V0z\" fill=\"none\"/>\n",
              "    <path d=\"M18.56 5.44l.94 2.06.94-2.06 2.06-.94-2.06-.94-.94-2.06-.94 2.06-2.06.94zm-11 1L8.5 8.5l.94-2.06 2.06-.94-2.06-.94L8.5 2.5l-.94 2.06-2.06.94zm10 10l.94 2.06.94-2.06 2.06-.94-2.06-.94-.94-2.06-.94 2.06-2.06.94z\"/><path d=\"M17.41 7.96l-1.37-1.37c-.4-.4-.92-.59-1.43-.59-.52 0-1.04.2-1.43.59L10.3 9.45l-7.72 7.72c-.78.78-.78 2.05 0 2.83L4 21.41c.39.39.9.59 1.41.59.51 0 1.02-.2 1.41-.59l7.78-7.78 2.81-2.81c.8-.78.8-2.07 0-2.86zM5.41 20L4 18.59l7.72-7.72 1.47 1.35L5.41 20z\"/>\n",
              "  </svg>\n",
              "      </button>\n",
              "\n",
              "\n",
              "\n",
              "    <div id=\"df-75e05a2c-55e2-4661-8a9d-be791caf8cb5\">\n",
              "      <button class=\"colab-df-quickchart\" onclick=\"quickchart('df-75e05a2c-55e2-4661-8a9d-be791caf8cb5')\"\n",
              "              title=\"Suggest charts.\"\n",
              "              style=\"display:none;\">\n",
              "\n",
              "<svg xmlns=\"http://www.w3.org/2000/svg\" height=\"24px\"viewBox=\"0 0 24 24\"\n",
              "     width=\"24px\">\n",
              "    <g>\n",
              "        <path d=\"M19 3H5c-1.1 0-2 .9-2 2v14c0 1.1.9 2 2 2h14c1.1 0 2-.9 2-2V5c0-1.1-.9-2-2-2zM9 17H7v-7h2v7zm4 0h-2V7h2v10zm4 0h-2v-4h2v4z\"/>\n",
              "    </g>\n",
              "</svg>\n",
              "      </button>\n",
              "    </div>\n",
              "\n",
              "<style>\n",
              "  .colab-df-quickchart {\n",
              "    background-color: #E8F0FE;\n",
              "    border: none;\n",
              "    border-radius: 50%;\n",
              "    cursor: pointer;\n",
              "    display: none;\n",
              "    fill: #1967D2;\n",
              "    height: 32px;\n",
              "    padding: 0 0 0 0;\n",
              "    width: 32px;\n",
              "  }\n",
              "\n",
              "  .colab-df-quickchart:hover {\n",
              "    background-color: #E2EBFA;\n",
              "    box-shadow: 0px 1px 2px rgba(60, 64, 67, 0.3), 0px 1px 3px 1px rgba(60, 64, 67, 0.15);\n",
              "    fill: #174EA6;\n",
              "  }\n",
              "\n",
              "  [theme=dark] .colab-df-quickchart {\n",
              "    background-color: #3B4455;\n",
              "    fill: #D2E3FC;\n",
              "  }\n",
              "\n",
              "  [theme=dark] .colab-df-quickchart:hover {\n",
              "    background-color: #434B5C;\n",
              "    box-shadow: 0px 1px 3px 1px rgba(0, 0, 0, 0.15);\n",
              "    filter: drop-shadow(0px 1px 2px rgba(0, 0, 0, 0.3));\n",
              "    fill: #FFFFFF;\n",
              "  }\n",
              "</style>\n",
              "\n",
              "    <script>\n",
              "      async function quickchart(key) {\n",
              "        const containerElement = document.querySelector('#' + key);\n",
              "        const charts = await google.colab.kernel.invokeFunction(\n",
              "            'suggestCharts', [key], {});\n",
              "      }\n",
              "    </script>\n",
              "\n",
              "      <script>\n",
              "\n",
              "function displayQuickchartButton(domScope) {\n",
              "  let quickchartButtonEl =\n",
              "    domScope.querySelector('#df-75e05a2c-55e2-4661-8a9d-be791caf8cb5 button.colab-df-quickchart');\n",
              "  quickchartButtonEl.style.display =\n",
              "    google.colab.kernel.accessAllowed ? 'block' : 'none';\n",
              "}\n",
              "\n",
              "        displayQuickchartButton(document);\n",
              "      </script>\n",
              "      <style>\n",
              "    .colab-df-container {\n",
              "      display:flex;\n",
              "      flex-wrap:wrap;\n",
              "      gap: 12px;\n",
              "    }\n",
              "\n",
              "    .colab-df-convert {\n",
              "      background-color: #E8F0FE;\n",
              "      border: none;\n",
              "      border-radius: 50%;\n",
              "      cursor: pointer;\n",
              "      display: none;\n",
              "      fill: #1967D2;\n",
              "      height: 32px;\n",
              "      padding: 0 0 0 0;\n",
              "      width: 32px;\n",
              "    }\n",
              "\n",
              "    .colab-df-convert:hover {\n",
              "      background-color: #E2EBFA;\n",
              "      box-shadow: 0px 1px 2px rgba(60, 64, 67, 0.3), 0px 1px 3px 1px rgba(60, 64, 67, 0.15);\n",
              "      fill: #174EA6;\n",
              "    }\n",
              "\n",
              "    [theme=dark] .colab-df-convert {\n",
              "      background-color: #3B4455;\n",
              "      fill: #D2E3FC;\n",
              "    }\n",
              "\n",
              "    [theme=dark] .colab-df-convert:hover {\n",
              "      background-color: #434B5C;\n",
              "      box-shadow: 0px 1px 3px 1px rgba(0, 0, 0, 0.15);\n",
              "      filter: drop-shadow(0px 1px 2px rgba(0, 0, 0, 0.3));\n",
              "      fill: #FFFFFF;\n",
              "    }\n",
              "  </style>\n",
              "\n",
              "      <script>\n",
              "        const buttonEl =\n",
              "          document.querySelector('#df-a19d73a9-7416-4b06-96f6-6614960661a7 button.colab-df-convert');\n",
              "        buttonEl.style.display =\n",
              "          google.colab.kernel.accessAllowed ? 'block' : 'none';\n",
              "\n",
              "        async function convertToInteractive(key) {\n",
              "          const element = document.querySelector('#df-a19d73a9-7416-4b06-96f6-6614960661a7');\n",
              "          const dataTable =\n",
              "            await google.colab.kernel.invokeFunction('convertToInteractive',\n",
              "                                                     [key], {});\n",
              "          if (!dataTable) return;\n",
              "\n",
              "          const docLinkHtml = 'Like what you see? Visit the ' +\n",
              "            '<a target=\"_blank\" href=https://colab.research.google.com/notebooks/data_table.ipynb>data table notebook</a>'\n",
              "            + ' to learn more about interactive tables.';\n",
              "          element.innerHTML = '';\n",
              "          dataTable['output_type'] = 'display_data';\n",
              "          await google.colab.output.renderOutput(dataTable, element);\n",
              "          const docLink = document.createElement('div');\n",
              "          docLink.innerHTML = docLinkHtml;\n",
              "          element.appendChild(docLink);\n",
              "        }\n",
              "      </script>\n",
              "    </div>\n",
              "  </div>\n"
            ]
          },
          "metadata": {},
          "execution_count": 40
        }
      ]
    },
    {
      "cell_type": "code",
      "source": [
        "y = df['stars']\n",
        "\n",
        "X = df['text']\n"
      ],
      "metadata": {
        "id": "C72N6i91hY7_"
      },
      "execution_count": null,
      "outputs": []
    },
    {
      "cell_type": "code",
      "source": [
        "from sklearn.model_selection import train_test_split\n",
        "\n",
        "X_train, X_test, y_train, y_test = train_test_split(X, y, test_size=0.2, random_state=42, shuffle=True)\n",
        "#X_train, X_test, y_train, y_test = train_test_split(df[X_text_reviews], df[Y_text_reviews], test_size=0.2, random_state=42, shuffle=True)"
      ],
      "metadata": {
        "id": "laNYqNLKhuAN"
      },
      "execution_count": null,
      "outputs": []
    },
    {
      "cell_type": "code",
      "source": [
        "y_train.head()"
      ],
      "metadata": {
        "colab": {
          "base_uri": "https://localhost:8080/"
        },
        "id": "wNY_6PwxSzSb",
        "outputId": "7773f54e-9709-4e81-f5c6-4b096f48c52e"
      },
      "execution_count": null,
      "outputs": [
        {
          "output_type": "execute_result",
          "data": {
            "text/plain": [
              "9254    2\n",
              "1561    5\n",
              "1670    5\n",
              "6087    5\n",
              "6669    2\n",
              "Name: stars, dtype: int64"
            ]
          },
          "metadata": {},
          "execution_count": 43
        }
      ]
    },
    {
      "cell_type": "markdown",
      "metadata": {
        "deletable": false,
        "editable": false,
        "nbgrader": {
          "cell_type": "markdown",
          "checksum": "aedd47e33e28a74846b51e236deef316",
          "grade": false,
          "grade_id": "cell-27dc6b438d2f2722",
          "locked": true,
          "schema_version": 3,
          "solution": false,
          "task": false
        },
        "id": "WZztMNUdPybb"
      },
      "source": [
        "## Part 1: Tokenize Function\n",
        "<a id=\"#p1\"></a>\n",
        "\n",
        "Complete the function `tokenize`. Your function should\n",
        "- Accept one document at a time\n",
        "- Return a list of tokens\n",
        "\n",
        "You are free to use any method you have learned this week.\n",
        "\n",
        "**TO PASS CODEGRADE RUNTIME:**\n",
        "- Do not run your tokenize function more than one time in your notebook! It is not needed until Part 4!"
      ]
    },
    {
      "cell_type": "code",
      "source": [
        "def clean_text(text):\n",
        "    \"\"\"\n",
        "    Accepts a single text document and performs several regex substitutions in order to clean the document.\n",
        "\n",
        "    Parameters\n",
        "    ----------\n",
        "    text: string or object\n",
        "\n",
        "    Returns\n",
        "    -------\n",
        "    text: string or object\n",
        "    \"\"\"\n",
        "\n",
        "    # order of operations - apply the expression from top to bottom\n",
        "    date_regex = r\"\\d+/\\d+/\\d+\"\n",
        "    punct_regex = r\"[^0-9a-zA-Z\\s]\" # any non-alphanumeric chars\n",
        "    special_chars_regex = r\"[\\$\\%\\&\\@+]\"\n",
        "    numerical_regex =  r\"[0-9]\"  # match one or more digits\n",
        "\n",
        "    # Replace any strings matching the above regex patterns with blank strings\n",
        "    # (effectively removing them from the text)\n",
        "    text = re.sub(date_regex, \"\", text)\n",
        "    text = re.sub(punct_regex, \"\", text)\n",
        "    text = re.sub(special_chars_regex, \"\", text)\n",
        "    text = re.sub(numerical_regex, \"\", text)\n",
        "\n",
        "    # match one or more whitespace chars\n",
        "    whitespace_regex = r\"[\\s]+\"\n",
        "    # replace one or more whitespace characters with a single white space char\n",
        "    #    not a blank string!\n",
        "    text = re.sub(whitespace_regex, \" \", text)\n",
        "\n",
        "\n",
        "    # apply case normalization\n",
        "    # text = YOUR CODE HERE (added to return statement)\n",
        "    return text.lower().lstrip().rstrip()"
      ],
      "metadata": {
        "id": "UZ9UYuUk0l5l"
      },
      "execution_count": null,
      "outputs": []
    },
    {
      "cell_type": "code",
      "source": [
        "df['cleaned_text'] = df['text'].apply(clean_text)"
      ],
      "metadata": {
        "id": "I-GCSs_H1HtR"
      },
      "execution_count": null,
      "outputs": []
    },
    {
      "cell_type": "code",
      "source": [
        "df['cleaned_text'][0]"
      ],
      "metadata": {
        "colab": {
          "base_uri": "https://localhost:8080/",
          "height": 70
        },
        "id": "FeW5QG5g1aJU",
        "outputId": "8422db9c-3170-44f6-b708-d64186adcccc"
      },
      "execution_count": null,
      "outputs": [
        {
          "output_type": "execute_result",
          "data": {
            "text/plain": [
              "'beware fake fake fakewe also own a small business in los alamitos ca and received what looked like a legitimate bill for with an account number and all i called the phone number listed the wait time on hold said minutes and to leave a message i could not get a live person on the phone no matter what number i selected i left a very firm message that i would be contacting the bbb and my attorney regarding their company trying to scam businesses this has to be illegal'"
            ],
            "application/vnd.google.colaboratory.intrinsic+json": {
              "type": "string"
            }
          },
          "metadata": {},
          "execution_count": 46
        }
      ]
    },
    {
      "cell_type": "code",
      "execution_count": null,
      "metadata": {
        "id": "SI_S0db4Pybb"
      },
      "outputs": [],
      "source": [
        "# Optional: Consider using spaCy in your function. The spaCy library can be imported by running this cell.\n",
        "# A pre-trained model (en_core_web_sm) has been made available to you in the CodeGrade container.\n",
        "# If you DON'T need use the en_core_web_sm model, you can comment it out below.\n",
        "\n",
        "nlp = spacy.load('en_core_web_sm')"
      ]
    },
    {
      "cell_type": "code",
      "execution_count": null,
      "metadata": {
        "deletable": false,
        "nbgrader": {
          "cell_type": "code",
          "checksum": "4837ed2a1cc13057ba40203859d46ff6",
          "grade": false,
          "grade_id": "cell-3d570d5a1cd6cb64",
          "locked": false,
          "schema_version": 3,
          "solution": true,
          "task": false
        },
        "id": "3qvOMotVPybc"
      },
      "outputs": [],
      "source": [
        "def tokenize(doc):\n",
        "\n",
        "  #pass text through Spacy language model\n",
        "\n",
        "  tokens = []\n",
        "  for token in nlp(doc):\n",
        "\n",
        "    if (not token.is_stop) & (not token.is_punct) & (not token.is_space):\n",
        "      tokens.append(token.lemma_)\n",
        "\n",
        "  return tokens\n",
        "\n",
        "\n",
        "#raise NotImplementedError()"
      ]
    },
    {
      "cell_type": "code",
      "execution_count": null,
      "metadata": {
        "deletable": false,
        "editable": false,
        "nbgrader": {
          "cell_type": "code",
          "checksum": "2181ca9d36070260b1f75dcfd9e58965",
          "grade": true,
          "grade_id": "cell-02da164f6fbe730a",
          "locked": true,
          "points": 1,
          "schema_version": 3,
          "solution": false,
          "task": false
        },
        "id": "PWt7eTjZPybc"
      },
      "outputs": [],
      "source": [
        "'''Testing'''\n",
        "assert isinstance(tokenize(df.sample(n=1)[\"text\"].iloc[0]), list), \"Make sure your tokenizer function accepts a single document and returns a list of tokens!\""
      ]
    },
    {
      "cell_type": "markdown",
      "metadata": {
        "deletable": false,
        "editable": false,
        "nbgrader": {
          "cell_type": "markdown",
          "checksum": "d4137c3ea2fa84821d1dbf1b28dde6dd",
          "grade": false,
          "grade_id": "cell-ef13337bc7694c52",
          "locked": true,
          "schema_version": 3,
          "solution": false,
          "task": false
        },
        "id": "iIDsx017Pybc"
      },
      "source": [
        "## Part 2: Vector Representation\n",
        "<a id=\"#p2\"></a>\n",
        "1. Create a vector representation of the reviews (i.e. create a doc-term matrix).\n",
        "    * Name that doc-term matrix `dtm`"
      ]
    },
    {
      "cell_type": "code",
      "execution_count": null,
      "metadata": {
        "deletable": false,
        "nbgrader": {
          "cell_type": "code",
          "checksum": "fefca7db0abb1474d316d6aa24e032f8",
          "grade": false,
          "grade_id": "cell-0e96491cb529202c",
          "locked": false,
          "schema_version": 3,
          "solution": true,
          "task": false
        },
        "id": "Yi4JcfF2Pybc",
        "colab": {
          "base_uri": "https://localhost:8080/"
        },
        "outputId": "4dee1658-f618-438a-b3de-e2c446d08a4d"
      },
      "outputs": [
        {
          "output_type": "stream",
          "name": "stdout",
          "text": [
            "CPU times: user 60 µs, sys: 1 µs, total: 61 µs\n",
            "Wall time: 66.3 µs\n"
          ]
        }
      ],
      "source": [
        "%%time\n",
        "\n",
        "vect = CountVectorizer(tokenizer=tokenize, stop_words='english')\n",
        "\n",
        "#raise NotImplementedError()"
      ]
    },
    {
      "cell_type": "code",
      "source": [
        "%%time\n",
        "\n",
        "dtm = vect.fit_transform(df.cleaned_text)\n",
        "#dtm = dtm.toarray\n",
        "#dtm = dtm.reshape((10000, 25333))"
      ],
      "metadata": {
        "colab": {
          "base_uri": "https://localhost:8080/"
        },
        "id": "s_FQsd2W3QJx",
        "outputId": "54ff309e-8b5a-4396-cf9f-ed1786a80303"
      },
      "execution_count": null,
      "outputs": [
        {
          "output_type": "stream",
          "name": "stderr",
          "text": [
            "/usr/local/lib/python3.10/dist-packages/sklearn/feature_extraction/text.py:528: UserWarning: The parameter 'token_pattern' will not be used since 'tokenizer' is not None'\n",
            "  warnings.warn(\n"
          ]
        },
        {
          "output_type": "stream",
          "name": "stdout",
          "text": [
            "CPU times: user 4min 7s, sys: 583 ms, total: 4min 7s\n",
            "Wall time: 4min 12s\n"
          ]
        }
      ]
    },
    {
      "cell_type": "code",
      "source": [
        "vect.get_feature_names_out()"
      ],
      "metadata": {
        "colab": {
          "base_uri": "https://localhost:8080/"
        },
        "id": "gNHKanYFdNpN",
        "outputId": "fe6ecd3a-b5c6-4b2d-8028-86bf1a22f207"
      },
      "execution_count": null,
      "outputs": [
        {
          "output_type": "execute_result",
          "data": {
            "text/plain": [
              "array(['aa', 'aaa', 'aaaahhhs', ..., 'zyrtec', 'zzaplon', 'zzzzzzzzz'],\n",
              "      dtype=object)"
            ]
          },
          "metadata": {},
          "execution_count": 52
        }
      ]
    },
    {
      "cell_type": "code",
      "source": [
        "dtm_vect = pd.DataFrame(data=dtm.toarray(), columns=vect.get_feature_names_out())\n"
      ],
      "metadata": {
        "id": "XSQegPFLO2ds"
      },
      "execution_count": null,
      "outputs": []
    },
    {
      "cell_type": "code",
      "source": [
        "dtm_vect.head()"
      ],
      "metadata": {
        "colab": {
          "base_uri": "https://localhost:8080/",
          "height": 235
        },
        "id": "QqV7BBQBXO0R",
        "outputId": "0e7bdb38-b818-45be-9ff1-63078da33b3e"
      },
      "execution_count": null,
      "outputs": [
        {
          "output_type": "execute_result",
          "data": {
            "text/plain": [
              "   aa  aaa  aaaahhhs  aaasssk  aab  aamco  aand  aaron  aas  ab  ...  zuma  \\\n",
              "0   0    0         0        0    0      0     0      0    0   0  ...     0   \n",
              "1   0    0         0        0    0      0     0      0    0   0  ...     0   \n",
              "2   0    0         0        0    0      0     0      0    0   0  ...     0   \n",
              "3   0    0         0        0    0      0     0      0    0   0  ...     0   \n",
              "4   0    0         0        0    0      0     0      0    0   0  ...     0   \n",
              "\n",
              "   zumanity  zumba  zuni  zupas  zuzana  zuzu  zyrtec  zzaplon  zzzzzzzzz  \n",
              "0         0      0     0      0       0     0       0        0          0  \n",
              "1         0      0     0      0       0     0       0        0          0  \n",
              "2         0      0     0      0       0     0       0        0          0  \n",
              "3         0      0     0      0       0     0       0        0          0  \n",
              "4         0      0     0      0       0     0       0        0          0  \n",
              "\n",
              "[5 rows x 25333 columns]"
            ],
            "text/html": [
              "\n",
              "\n",
              "  <div id=\"df-aeaed7b0-7cde-4600-90dd-d929115b8c86\">\n",
              "    <div class=\"colab-df-container\">\n",
              "      <div>\n",
              "<style scoped>\n",
              "    .dataframe tbody tr th:only-of-type {\n",
              "        vertical-align: middle;\n",
              "    }\n",
              "\n",
              "    .dataframe tbody tr th {\n",
              "        vertical-align: top;\n",
              "    }\n",
              "\n",
              "    .dataframe thead th {\n",
              "        text-align: right;\n",
              "    }\n",
              "</style>\n",
              "<table border=\"1\" class=\"dataframe\">\n",
              "  <thead>\n",
              "    <tr style=\"text-align: right;\">\n",
              "      <th></th>\n",
              "      <th>aa</th>\n",
              "      <th>aaa</th>\n",
              "      <th>aaaahhhs</th>\n",
              "      <th>aaasssk</th>\n",
              "      <th>aab</th>\n",
              "      <th>aamco</th>\n",
              "      <th>aand</th>\n",
              "      <th>aaron</th>\n",
              "      <th>aas</th>\n",
              "      <th>ab</th>\n",
              "      <th>...</th>\n",
              "      <th>zuma</th>\n",
              "      <th>zumanity</th>\n",
              "      <th>zumba</th>\n",
              "      <th>zuni</th>\n",
              "      <th>zupas</th>\n",
              "      <th>zuzana</th>\n",
              "      <th>zuzu</th>\n",
              "      <th>zyrtec</th>\n",
              "      <th>zzaplon</th>\n",
              "      <th>zzzzzzzzz</th>\n",
              "    </tr>\n",
              "  </thead>\n",
              "  <tbody>\n",
              "    <tr>\n",
              "      <th>0</th>\n",
              "      <td>0</td>\n",
              "      <td>0</td>\n",
              "      <td>0</td>\n",
              "      <td>0</td>\n",
              "      <td>0</td>\n",
              "      <td>0</td>\n",
              "      <td>0</td>\n",
              "      <td>0</td>\n",
              "      <td>0</td>\n",
              "      <td>0</td>\n",
              "      <td>...</td>\n",
              "      <td>0</td>\n",
              "      <td>0</td>\n",
              "      <td>0</td>\n",
              "      <td>0</td>\n",
              "      <td>0</td>\n",
              "      <td>0</td>\n",
              "      <td>0</td>\n",
              "      <td>0</td>\n",
              "      <td>0</td>\n",
              "      <td>0</td>\n",
              "    </tr>\n",
              "    <tr>\n",
              "      <th>1</th>\n",
              "      <td>0</td>\n",
              "      <td>0</td>\n",
              "      <td>0</td>\n",
              "      <td>0</td>\n",
              "      <td>0</td>\n",
              "      <td>0</td>\n",
              "      <td>0</td>\n",
              "      <td>0</td>\n",
              "      <td>0</td>\n",
              "      <td>0</td>\n",
              "      <td>...</td>\n",
              "      <td>0</td>\n",
              "      <td>0</td>\n",
              "      <td>0</td>\n",
              "      <td>0</td>\n",
              "      <td>0</td>\n",
              "      <td>0</td>\n",
              "      <td>0</td>\n",
              "      <td>0</td>\n",
              "      <td>0</td>\n",
              "      <td>0</td>\n",
              "    </tr>\n",
              "    <tr>\n",
              "      <th>2</th>\n",
              "      <td>0</td>\n",
              "      <td>0</td>\n",
              "      <td>0</td>\n",
              "      <td>0</td>\n",
              "      <td>0</td>\n",
              "      <td>0</td>\n",
              "      <td>0</td>\n",
              "      <td>0</td>\n",
              "      <td>0</td>\n",
              "      <td>0</td>\n",
              "      <td>...</td>\n",
              "      <td>0</td>\n",
              "      <td>0</td>\n",
              "      <td>0</td>\n",
              "      <td>0</td>\n",
              "      <td>0</td>\n",
              "      <td>0</td>\n",
              "      <td>0</td>\n",
              "      <td>0</td>\n",
              "      <td>0</td>\n",
              "      <td>0</td>\n",
              "    </tr>\n",
              "    <tr>\n",
              "      <th>3</th>\n",
              "      <td>0</td>\n",
              "      <td>0</td>\n",
              "      <td>0</td>\n",
              "      <td>0</td>\n",
              "      <td>0</td>\n",
              "      <td>0</td>\n",
              "      <td>0</td>\n",
              "      <td>0</td>\n",
              "      <td>0</td>\n",
              "      <td>0</td>\n",
              "      <td>...</td>\n",
              "      <td>0</td>\n",
              "      <td>0</td>\n",
              "      <td>0</td>\n",
              "      <td>0</td>\n",
              "      <td>0</td>\n",
              "      <td>0</td>\n",
              "      <td>0</td>\n",
              "      <td>0</td>\n",
              "      <td>0</td>\n",
              "      <td>0</td>\n",
              "    </tr>\n",
              "    <tr>\n",
              "      <th>4</th>\n",
              "      <td>0</td>\n",
              "      <td>0</td>\n",
              "      <td>0</td>\n",
              "      <td>0</td>\n",
              "      <td>0</td>\n",
              "      <td>0</td>\n",
              "      <td>0</td>\n",
              "      <td>0</td>\n",
              "      <td>0</td>\n",
              "      <td>0</td>\n",
              "      <td>...</td>\n",
              "      <td>0</td>\n",
              "      <td>0</td>\n",
              "      <td>0</td>\n",
              "      <td>0</td>\n",
              "      <td>0</td>\n",
              "      <td>0</td>\n",
              "      <td>0</td>\n",
              "      <td>0</td>\n",
              "      <td>0</td>\n",
              "      <td>0</td>\n",
              "    </tr>\n",
              "  </tbody>\n",
              "</table>\n",
              "<p>5 rows × 25333 columns</p>\n",
              "</div>\n",
              "      <button class=\"colab-df-convert\" onclick=\"convertToInteractive('df-aeaed7b0-7cde-4600-90dd-d929115b8c86')\"\n",
              "              title=\"Convert this dataframe to an interactive table.\"\n",
              "              style=\"display:none;\">\n",
              "\n",
              "  <svg xmlns=\"http://www.w3.org/2000/svg\" height=\"24px\"viewBox=\"0 0 24 24\"\n",
              "       width=\"24px\">\n",
              "    <path d=\"M0 0h24v24H0V0z\" fill=\"none\"/>\n",
              "    <path d=\"M18.56 5.44l.94 2.06.94-2.06 2.06-.94-2.06-.94-.94-2.06-.94 2.06-2.06.94zm-11 1L8.5 8.5l.94-2.06 2.06-.94-2.06-.94L8.5 2.5l-.94 2.06-2.06.94zm10 10l.94 2.06.94-2.06 2.06-.94-2.06-.94-.94-2.06-.94 2.06-2.06.94z\"/><path d=\"M17.41 7.96l-1.37-1.37c-.4-.4-.92-.59-1.43-.59-.52 0-1.04.2-1.43.59L10.3 9.45l-7.72 7.72c-.78.78-.78 2.05 0 2.83L4 21.41c.39.39.9.59 1.41.59.51 0 1.02-.2 1.41-.59l7.78-7.78 2.81-2.81c.8-.78.8-2.07 0-2.86zM5.41 20L4 18.59l7.72-7.72 1.47 1.35L5.41 20z\"/>\n",
              "  </svg>\n",
              "      </button>\n",
              "\n",
              "\n",
              "\n",
              "    <div id=\"df-04d53c04-0588-4a9a-9db8-87294b6a6203\">\n",
              "      <button class=\"colab-df-quickchart\" onclick=\"quickchart('df-04d53c04-0588-4a9a-9db8-87294b6a6203')\"\n",
              "              title=\"Suggest charts.\"\n",
              "              style=\"display:none;\">\n",
              "\n",
              "<svg xmlns=\"http://www.w3.org/2000/svg\" height=\"24px\"viewBox=\"0 0 24 24\"\n",
              "     width=\"24px\">\n",
              "    <g>\n",
              "        <path d=\"M19 3H5c-1.1 0-2 .9-2 2v14c0 1.1.9 2 2 2h14c1.1 0 2-.9 2-2V5c0-1.1-.9-2-2-2zM9 17H7v-7h2v7zm4 0h-2V7h2v10zm4 0h-2v-4h2v4z\"/>\n",
              "    </g>\n",
              "</svg>\n",
              "      </button>\n",
              "    </div>\n",
              "\n",
              "<style>\n",
              "  .colab-df-quickchart {\n",
              "    background-color: #E8F0FE;\n",
              "    border: none;\n",
              "    border-radius: 50%;\n",
              "    cursor: pointer;\n",
              "    display: none;\n",
              "    fill: #1967D2;\n",
              "    height: 32px;\n",
              "    padding: 0 0 0 0;\n",
              "    width: 32px;\n",
              "  }\n",
              "\n",
              "  .colab-df-quickchart:hover {\n",
              "    background-color: #E2EBFA;\n",
              "    box-shadow: 0px 1px 2px rgba(60, 64, 67, 0.3), 0px 1px 3px 1px rgba(60, 64, 67, 0.15);\n",
              "    fill: #174EA6;\n",
              "  }\n",
              "\n",
              "  [theme=dark] .colab-df-quickchart {\n",
              "    background-color: #3B4455;\n",
              "    fill: #D2E3FC;\n",
              "  }\n",
              "\n",
              "  [theme=dark] .colab-df-quickchart:hover {\n",
              "    background-color: #434B5C;\n",
              "    box-shadow: 0px 1px 3px 1px rgba(0, 0, 0, 0.15);\n",
              "    filter: drop-shadow(0px 1px 2px rgba(0, 0, 0, 0.3));\n",
              "    fill: #FFFFFF;\n",
              "  }\n",
              "</style>\n",
              "\n",
              "    <script>\n",
              "      async function quickchart(key) {\n",
              "        const containerElement = document.querySelector('#' + key);\n",
              "        const charts = await google.colab.kernel.invokeFunction(\n",
              "            'suggestCharts', [key], {});\n",
              "      }\n",
              "    </script>\n",
              "\n",
              "      <script>\n",
              "\n",
              "function displayQuickchartButton(domScope) {\n",
              "  let quickchartButtonEl =\n",
              "    domScope.querySelector('#df-04d53c04-0588-4a9a-9db8-87294b6a6203 button.colab-df-quickchart');\n",
              "  quickchartButtonEl.style.display =\n",
              "    google.colab.kernel.accessAllowed ? 'block' : 'none';\n",
              "}\n",
              "\n",
              "        displayQuickchartButton(document);\n",
              "      </script>\n",
              "      <style>\n",
              "    .colab-df-container {\n",
              "      display:flex;\n",
              "      flex-wrap:wrap;\n",
              "      gap: 12px;\n",
              "    }\n",
              "\n",
              "    .colab-df-convert {\n",
              "      background-color: #E8F0FE;\n",
              "      border: none;\n",
              "      border-radius: 50%;\n",
              "      cursor: pointer;\n",
              "      display: none;\n",
              "      fill: #1967D2;\n",
              "      height: 32px;\n",
              "      padding: 0 0 0 0;\n",
              "      width: 32px;\n",
              "    }\n",
              "\n",
              "    .colab-df-convert:hover {\n",
              "      background-color: #E2EBFA;\n",
              "      box-shadow: 0px 1px 2px rgba(60, 64, 67, 0.3), 0px 1px 3px 1px rgba(60, 64, 67, 0.15);\n",
              "      fill: #174EA6;\n",
              "    }\n",
              "\n",
              "    [theme=dark] .colab-df-convert {\n",
              "      background-color: #3B4455;\n",
              "      fill: #D2E3FC;\n",
              "    }\n",
              "\n",
              "    [theme=dark] .colab-df-convert:hover {\n",
              "      background-color: #434B5C;\n",
              "      box-shadow: 0px 1px 3px 1px rgba(0, 0, 0, 0.15);\n",
              "      filter: drop-shadow(0px 1px 2px rgba(0, 0, 0, 0.3));\n",
              "      fill: #FFFFFF;\n",
              "    }\n",
              "  </style>\n",
              "\n",
              "      <script>\n",
              "        const buttonEl =\n",
              "          document.querySelector('#df-aeaed7b0-7cde-4600-90dd-d929115b8c86 button.colab-df-convert');\n",
              "        buttonEl.style.display =\n",
              "          google.colab.kernel.accessAllowed ? 'block' : 'none';\n",
              "\n",
              "        async function convertToInteractive(key) {\n",
              "          const element = document.querySelector('#df-aeaed7b0-7cde-4600-90dd-d929115b8c86');\n",
              "          const dataTable =\n",
              "            await google.colab.kernel.invokeFunction('convertToInteractive',\n",
              "                                                     [key], {});\n",
              "          if (!dataTable) return;\n",
              "\n",
              "          const docLinkHtml = 'Like what you see? Visit the ' +\n",
              "            '<a target=\"_blank\" href=https://colab.research.google.com/notebooks/data_table.ipynb>data table notebook</a>'\n",
              "            + ' to learn more about interactive tables.';\n",
              "          element.innerHTML = '';\n",
              "          dataTable['output_type'] = 'display_data';\n",
              "          await google.colab.output.renderOutput(dataTable, element);\n",
              "          const docLink = document.createElement('div');\n",
              "          docLink.innerHTML = docLinkHtml;\n",
              "          element.appendChild(docLink);\n",
              "        }\n",
              "      </script>\n",
              "    </div>\n",
              "  </div>\n"
            ]
          },
          "metadata": {},
          "execution_count": 54
        }
      ]
    },
    {
      "cell_type": "markdown",
      "metadata": {
        "deletable": false,
        "editable": false,
        "nbgrader": {
          "cell_type": "markdown",
          "checksum": "86048b7ea6cb011227aefa5a8f7a9e65",
          "grade": false,
          "grade_id": "cell-33c058ea193687c3",
          "locked": true,
          "schema_version": 3,
          "solution": false,
          "task": false
        },
        "id": "_LjIzA9ZPybd"
      },
      "source": [
        "\n",
        "2. Write a fake review. Assign the text of the review to an object called `fake_review`.\n",
        "3. Query the fake review for the 10 most similar reviews, print the text of the reviews.\n",
        "    - Given the size of the dataset, use `NearestNeighbors` model for this. Name the model `nn`."
      ]
    },
    {
      "cell_type": "code",
      "execution_count": null,
      "metadata": {
        "deletable": false,
        "nbgrader": {
          "cell_type": "code",
          "checksum": "3da2ced9f187ed0aa1a890785e2ba00e",
          "grade": false,
          "grade_id": "cell-496203e8746296ca",
          "locked": false,
          "schema_version": 3,
          "solution": true,
          "task": false
        },
        "id": "9WV11xpuPybd"
      },
      "outputs": [],
      "source": [
        "# Create a fake review and find the 10 most similar reviews\n",
        "\n",
        "fake_review=\"went in 30 minutes before closing that the manager Christina provided excellent customer service. I asked for a 20 piece and she had some more chicken made for me so i could get what i wanted. I have been in there other occasions when Christina wasn't there and i wasn't able to get what i needed. Normally when i go to most places the employee's are in a rush to get off work and don't want to make any more food and you end up either getting nothing or having to get something that you didn't want. Not this time.\"\n",
        "\n",
        "# raise NotImplementedError()"
      ]
    },
    {
      "cell_type": "code",
      "execution_count": null,
      "metadata": {
        "deletable": false,
        "editable": false,
        "nbgrader": {
          "cell_type": "code",
          "checksum": "33e150190aa62764e07f1f6c66bb9393",
          "grade": true,
          "grade_id": "cell-203092260fb65165",
          "locked": true,
          "points": 1,
          "schema_version": 3,
          "solution": false,
          "task": false
        },
        "id": "euGWzDOKPybd"
      },
      "outputs": [],
      "source": [
        "# Visible Testing\n",
        "assert isinstance(fake_review, str), \"Did you write a review in the correct data type?\""
      ]
    },
    {
      "cell_type": "code",
      "source": [
        "fake_review_vector = vect.transform([fake_review])"
      ],
      "metadata": {
        "id": "EkPFu-FoaUhs"
      },
      "execution_count": null,
      "outputs": []
    },
    {
      "cell_type": "code",
      "execution_count": null,
      "metadata": {
        "deletable": false,
        "nbgrader": {
          "cell_type": "code",
          "checksum": "f6aa466983420c836879d744ffa6c9a8",
          "grade": false,
          "grade_id": "cell-3d5bc610a8ec6b24",
          "locked": false,
          "schema_version": 3,
          "solution": true,
          "task": false
        },
        "id": "litezNfBPybd"
      },
      "outputs": [],
      "source": [
        "# Create and fit a NearestNeighbors model named \"nn\"\n",
        "\n",
        "top_n_neigh = 10\n",
        "nn = NearestNeighbors(n_neighbors=top_n_neigh)\n",
        "nn.fit(dtm)\n",
        "\n",
        "n_dist, n_ind = nn.kneighbors(fake_review_vector)\n",
        "\n",
        "#raise NotImplementedError()"
      ]
    },
    {
      "cell_type": "code",
      "execution_count": null,
      "metadata": {
        "deletable": false,
        "editable": false,
        "nbgrader": {
          "cell_type": "code",
          "checksum": "d270ed23df3c7d3c6cf08ab174ccaf9e",
          "grade": true,
          "grade_id": "cell-c43704dcff67e99b",
          "locked": true,
          "points": 1,
          "schema_version": 3,
          "solution": false,
          "task": false
        },
        "id": "AVHWqRsLPybd"
      },
      "outputs": [],
      "source": [
        "'''Testing.'''\n",
        "assert nn.__module__ == 'sklearn.neighbors._unsupervised', ' nn is not a NearestNeighbors instance.'\n",
        "assert nn.n_neighbors == 10, 'nn has the wrong value for n_neighbors'"
      ]
    },
    {
      "cell_type": "code",
      "source": [
        "# 10 Reviews most similar to fake review\n",
        "\n",
        "count=0\n",
        "for most_sim_text in n_ind[:][0]:\n",
        "  most_sim_review = df.iloc[most_sim_text]\n",
        "  count+=1\n",
        "  print(\"n\", count,\" \",most_sim_text)\n"
      ],
      "metadata": {
        "id": "vaPxVM_xaVnb",
        "colab": {
          "base_uri": "https://localhost:8080/"
        },
        "outputId": "f4f6cbb1-9542-4249-e91c-333304f3369e"
      },
      "execution_count": null,
      "outputs": [
        {
          "output_type": "stream",
          "name": "stdout",
          "text": [
            "n 1   9898\n",
            "n 2   4493\n",
            "n 3   9465\n",
            "n 4   6625\n",
            "n 5   144\n",
            "n 6   6204\n",
            "n 7   2470\n",
            "n 8   6252\n",
            "n 9   6311\n",
            "n 10   4546\n"
          ]
        }
      ]
    },
    {
      "cell_type": "markdown",
      "metadata": {
        "id": "4c6nJyd6Pybd"
      },
      "source": [
        "## Part 3: Classification\n",
        "<a id=\"#p3\"></a>\n",
        "Your goal in this section will be to predict `stars` from the review dataset.\n",
        "\n",
        "1. Create a pipeline object with a sklearn `CountVectorizer` or `TfidfVector` and any sklearn classifier.\n",
        "    - Use that pipeline to train a model to predict the `stars` feature (i.e. the labels).\n",
        "    - Use that pipeline to predict a star rating for your fake review from Part 2.\n",
        "\n",
        "\n",
        "\n",
        "2. Create a parameter dict including `one parameter for the vectorizer` and `one parameter for the model`.\n",
        "    - Include 2 possible values for each parameter\n",
        "        - **Keep the values for each parameter low. Extreme values will compromise runtime**\n",
        "    - **Use `n_jobs` = 1**\n",
        "    - Due to limited computational resources on CodeGrader `DO NOT INCLUDE ADDITIONAL PARAMETERS OR VALUES PLEASE.`\n",
        "    \n",
        "    \n",
        "3. Train the entire pipeline with a GridSearch\n",
        "    - Name your GridSearch object as `gs`"
      ]
    },
    {
      "cell_type": "code",
      "source": [
        "#!pip install lightgbm"
      ],
      "metadata": {
        "colab": {
          "base_uri": "https://localhost:8080/"
        },
        "id": "wBkexGB-YQzu",
        "outputId": "dc15178e-baa7-42a9-b23a-12393abfc88b"
      },
      "execution_count": null,
      "outputs": [
        {
          "output_type": "stream",
          "name": "stdout",
          "text": [
            "Requirement already satisfied: lightgbm in /usr/local/lib/python3.10/dist-packages (3.3.5)\n",
            "Requirement already satisfied: wheel in /usr/local/lib/python3.10/dist-packages (from lightgbm) (0.40.0)\n",
            "Requirement already satisfied: numpy in /usr/local/lib/python3.10/dist-packages (from lightgbm) (1.22.4)\n",
            "Requirement already satisfied: scipy in /usr/local/lib/python3.10/dist-packages (from lightgbm) (1.10.1)\n",
            "Requirement already satisfied: scikit-learn!=0.22.0 in /usr/local/lib/python3.10/dist-packages (from lightgbm) (1.2.2)\n",
            "Requirement already satisfied: joblib>=1.1.1 in /usr/local/lib/python3.10/dist-packages (from scikit-learn!=0.22.0->lightgbm) (1.3.1)\n",
            "Requirement already satisfied: threadpoolctl>=2.0.0 in /usr/local/lib/python3.10/dist-packages (from scikit-learn!=0.22.0->lightgbm) (3.2.0)\n"
          ]
        }
      ]
    },
    {
      "cell_type": "code",
      "source": [
        "#!pip install dask distributed --upgrade"
      ],
      "metadata": {
        "id": "Jtehx_uuukys",
        "colab": {
          "base_uri": "https://localhost:8080/"
        },
        "outputId": "4733ddf0-3e23-44f6-8092-65478ae3ff49"
      },
      "execution_count": null,
      "outputs": [
        {
          "output_type": "stream",
          "name": "stdout",
          "text": [
            "Requirement already satisfied: dask in /usr/local/lib/python3.10/dist-packages (2023.7.1)\n",
            "Requirement already satisfied: distributed in /usr/local/lib/python3.10/dist-packages (2023.7.1)\n",
            "Requirement already satisfied: click>=8.0 in /usr/local/lib/python3.10/dist-packages (from dask) (8.1.6)\n",
            "Requirement already satisfied: cloudpickle>=1.5.0 in /usr/local/lib/python3.10/dist-packages (from dask) (2.2.1)\n",
            "Requirement already satisfied: fsspec>=2021.09.0 in /usr/local/lib/python3.10/dist-packages (from dask) (2023.6.0)\n",
            "Requirement already satisfied: packaging>=20.0 in /usr/local/lib/python3.10/dist-packages (from dask) (23.1)\n",
            "Requirement already satisfied: partd>=1.2.0 in /usr/local/lib/python3.10/dist-packages (from dask) (1.4.0)\n",
            "Requirement already satisfied: pyyaml>=5.3.1 in /usr/local/lib/python3.10/dist-packages (from dask) (6.0.1)\n",
            "Requirement already satisfied: toolz>=0.10.0 in /usr/local/lib/python3.10/dist-packages (from dask) (0.12.0)\n",
            "Requirement already satisfied: importlib-metadata>=4.13.0 in /usr/local/lib/python3.10/dist-packages (from dask) (6.8.0)\n",
            "Requirement already satisfied: jinja2>=2.10.3 in /usr/local/lib/python3.10/dist-packages (from distributed) (3.1.2)\n",
            "Requirement already satisfied: locket>=1.0.0 in /usr/local/lib/python3.10/dist-packages (from distributed) (1.0.0)\n",
            "Requirement already satisfied: msgpack>=1.0.0 in /usr/local/lib/python3.10/dist-packages (from distributed) (1.0.5)\n",
            "Requirement already satisfied: psutil>=5.7.2 in /usr/local/lib/python3.10/dist-packages (from distributed) (5.9.5)\n",
            "Requirement already satisfied: sortedcontainers>=2.0.5 in /usr/local/lib/python3.10/dist-packages (from distributed) (2.4.0)\n",
            "Requirement already satisfied: tblib>=1.6.0 in /usr/local/lib/python3.10/dist-packages (from distributed) (2.0.0)\n",
            "Requirement already satisfied: tornado>=6.0.4 in /usr/local/lib/python3.10/dist-packages (from distributed) (6.3.1)\n",
            "Requirement already satisfied: urllib3>=1.24.3 in /usr/local/lib/python3.10/dist-packages (from distributed) (1.26.16)\n",
            "Requirement already satisfied: zict>=2.2.0 in /usr/local/lib/python3.10/dist-packages (from distributed) (3.0.0)\n",
            "Requirement already satisfied: zipp>=0.5 in /usr/local/lib/python3.10/dist-packages (from importlib-metadata>=4.13.0->dask) (3.16.2)\n",
            "Requirement already satisfied: MarkupSafe>=2.0 in /usr/local/lib/python3.10/dist-packages (from jinja2>=2.10.3->distributed) (2.1.3)\n"
          ]
        }
      ]
    },
    {
      "cell_type": "code",
      "source": [
        "#!pip install ipython"
      ],
      "metadata": {
        "colab": {
          "base_uri": "https://localhost:8080/"
        },
        "id": "PoYoPWFLetAm",
        "outputId": "f00e1936-ce2f-4c2c-c284-6b7622dbe668"
      },
      "execution_count": null,
      "outputs": [
        {
          "output_type": "stream",
          "name": "stderr",
          "text": [
            "/usr/local/lib/python3.10/dist-packages/ipykernel/ipkernel.py:283: DeprecationWarning: `should_run_async` will not call `transform_cell` automatically in the future. Please pass the result to `transformed_cell` argument and any exception that happen during thetransform in `preprocessing_exc_tuple` in IPython 7.17 and above.\n",
            "  and should_run_async(code)\n"
          ]
        },
        {
          "output_type": "stream",
          "name": "stdout",
          "text": [
            "Requirement already satisfied: ipython in /usr/local/lib/python3.10/dist-packages (7.34.0)\n",
            "Requirement already satisfied: setuptools>=18.5 in /usr/local/lib/python3.10/dist-packages (from ipython) (67.7.2)\n",
            "Collecting jedi>=0.16 (from ipython)\n",
            "  Downloading jedi-0.18.2-py2.py3-none-any.whl (1.6 MB)\n",
            "\u001b[2K     \u001b[90m━━━━━━━━━━━━━━━━━━━━━━━━━━━━━━━━━━━━━━━━\u001b[0m \u001b[32m1.6/1.6 MB\u001b[0m \u001b[31m12.4 MB/s\u001b[0m eta \u001b[36m0:00:00\u001b[0m\n",
            "\u001b[?25hRequirement already satisfied: decorator in /usr/local/lib/python3.10/dist-packages (from ipython) (4.4.2)\n",
            "Requirement already satisfied: pickleshare in /usr/local/lib/python3.10/dist-packages (from ipython) (0.7.5)\n",
            "Requirement already satisfied: traitlets>=4.2 in /usr/local/lib/python3.10/dist-packages (from ipython) (5.7.1)\n",
            "Requirement already satisfied: prompt-toolkit!=3.0.0,!=3.0.1,<3.1.0,>=2.0.0 in /usr/local/lib/python3.10/dist-packages (from ipython) (3.0.39)\n",
            "Requirement already satisfied: pygments in /usr/local/lib/python3.10/dist-packages (from ipython) (2.14.0)\n",
            "Requirement already satisfied: backcall in /usr/local/lib/python3.10/dist-packages (from ipython) (0.2.0)\n",
            "Requirement already satisfied: matplotlib-inline in /usr/local/lib/python3.10/dist-packages (from ipython) (0.1.6)\n",
            "Requirement already satisfied: pexpect>4.3 in /usr/local/lib/python3.10/dist-packages (from ipython) (4.8.0)\n",
            "Requirement already satisfied: parso<0.9.0,>=0.8.0 in /usr/local/lib/python3.10/dist-packages (from jedi>=0.16->ipython) (0.8.3)\n",
            "Requirement already satisfied: ptyprocess>=0.5 in /usr/local/lib/python3.10/dist-packages (from pexpect>4.3->ipython) (0.7.0)\n",
            "Requirement already satisfied: wcwidth in /usr/local/lib/python3.10/dist-packages (from prompt-toolkit!=3.0.0,!=3.0.1,<3.1.0,>=2.0.0->ipython) (0.2.6)\n",
            "Installing collected packages: jedi\n",
            "Successfully installed jedi-0.18.2\n"
          ]
        }
      ]
    },
    {
      "cell_type": "code",
      "execution_count": null,
      "metadata": {
        "deletable": false,
        "jupyter": {
          "outputs_hidden": true
        },
        "nbgrader": {
          "cell_type": "code",
          "checksum": "b3492e82185541e6a463f46b16baff94",
          "grade": false,
          "grade_id": "cell-e2beb0252d274bba",
          "locked": false,
          "schema_version": 3,
          "solution": true,
          "task": false
        },
        "id": "qzvL62uVPybe"
      },
      "outputs": [],
      "source": [
        "#Creating Pipeline Object with TfIdf\n",
        "\n",
        "from sklearn.decomposition import TruncatedSVD\n",
        "from lightgbm import LGBMClassifier\n",
        "\n",
        "svd = TruncatedSVD(n_components=2,\n",
        "                   algorithm='randomized',\n",
        "                   n_iter=10)\n",
        "\n",
        "\n",
        "#max_features=500\n",
        "vect = TfidfVectorizer(stop_words='english', max_features=500)\n",
        "clf = LGBMClassifier()\n",
        "\n",
        "lsa = Pipeline([('vect', vect), ('svd', svd)])\n",
        "pipe = Pipeline([('lsa', lsa), ('clf', clf)])\n",
        "\n",
        "#raise NotImplementedError()"
      ]
    },
    {
      "cell_type": "code",
      "source": [
        "# Parameters to search in dictionary\n",
        "%%time\n",
        "parameters = {\n",
        "    'lsa__svd__n_components': ([50]),\n",
        "    'lsa__vect__max_df': ([0.75]),\n",
        "    'clf__max_depth':([20]),\n",
        "    'clf__n_estimators': ([1500]),\n",
        "    'clf__learning_rate': ([0.1]),\n",
        "    'clf__num_leaves': ([50]),\n",
        "    'clf__min_data_in_leaf': ([30])\n",
        "\n",
        "}"
      ],
      "metadata": {
        "id": "6ukMyIQQgKsP",
        "colab": {
          "base_uri": "https://localhost:8080/"
        },
        "outputId": "990c9dd7-c65f-4c93-d604-2674de95b9ff"
      },
      "execution_count": null,
      "outputs": [
        {
          "output_type": "stream",
          "name": "stdout",
          "text": [
            "CPU times: user 9 µs, sys: 0 ns, total: 9 µs\n",
            "Wall time: 14.3 µs\n"
          ]
        }
      ]
    },
    {
      "cell_type": "code",
      "source": [
        "  # Implement Grid Seearch with Cross Validation1)\n",
        "  gs = GridSearchCV(pipe, parameters, cv=3, n_jobs=-1)\n",
        "  gs.fit(X_train, y_train) #where does the X,y come from?"
      ],
      "metadata": {
        "id": "wwozXfUJgRYo",
        "colab": {
          "base_uri": "https://localhost:8080/",
          "height": 228
        },
        "outputId": "28192772-31af-4f07-f1c5-8351e28e15fc"
      },
      "execution_count": null,
      "outputs": [
        {
          "output_type": "stream",
          "name": "stdout",
          "text": [
            "Fitting 3 folds for each of 1 candidates, totalling 3 fits\n"
          ]
        },
        {
          "output_type": "execute_result",
          "data": {
            "text/plain": [
              "GridSearchCV(cv=3,\n",
              "             estimator=Pipeline(steps=[('lsa',\n",
              "                                        Pipeline(steps=[('vect',\n",
              "                                                         TfidfVectorizer(max_features=500,\n",
              "                                                                         stop_words='english')),\n",
              "                                                        ('svd',\n",
              "                                                         TruncatedSVD(n_iter=10))])),\n",
              "                                       ('clf', LGBMClassifier())]),\n",
              "             n_jobs=-1,\n",
              "             param_grid={'clf__learning_rate': [0.1], 'clf__max_depth': [20],\n",
              "                         'clf__min_data_in_leaf': [30],\n",
              "                         'clf__n_estimators': [1500], 'clf__num_leaves': [50],\n",
              "                         'lsa__svd__n_components': [50],\n",
              "                         'lsa__vect__max_df': [0.75]},\n",
              "             verbose=1)"
            ],
            "text/html": [
              "<style>#sk-container-id-2 {color: black;background-color: white;}#sk-container-id-2 pre{padding: 0;}#sk-container-id-2 div.sk-toggleable {background-color: white;}#sk-container-id-2 label.sk-toggleable__label {cursor: pointer;display: block;width: 100%;margin-bottom: 0;padding: 0.3em;box-sizing: border-box;text-align: center;}#sk-container-id-2 label.sk-toggleable__label-arrow:before {content: \"▸\";float: left;margin-right: 0.25em;color: #696969;}#sk-container-id-2 label.sk-toggleable__label-arrow:hover:before {color: black;}#sk-container-id-2 div.sk-estimator:hover label.sk-toggleable__label-arrow:before {color: black;}#sk-container-id-2 div.sk-toggleable__content {max-height: 0;max-width: 0;overflow: hidden;text-align: left;background-color: #f0f8ff;}#sk-container-id-2 div.sk-toggleable__content pre {margin: 0.2em;color: black;border-radius: 0.25em;background-color: #f0f8ff;}#sk-container-id-2 input.sk-toggleable__control:checked~div.sk-toggleable__content {max-height: 200px;max-width: 100%;overflow: auto;}#sk-container-id-2 input.sk-toggleable__control:checked~label.sk-toggleable__label-arrow:before {content: \"▾\";}#sk-container-id-2 div.sk-estimator input.sk-toggleable__control:checked~label.sk-toggleable__label {background-color: #d4ebff;}#sk-container-id-2 div.sk-label input.sk-toggleable__control:checked~label.sk-toggleable__label {background-color: #d4ebff;}#sk-container-id-2 input.sk-hidden--visually {border: 0;clip: rect(1px 1px 1px 1px);clip: rect(1px, 1px, 1px, 1px);height: 1px;margin: -1px;overflow: hidden;padding: 0;position: absolute;width: 1px;}#sk-container-id-2 div.sk-estimator {font-family: monospace;background-color: #f0f8ff;border: 1px dotted black;border-radius: 0.25em;box-sizing: border-box;margin-bottom: 0.5em;}#sk-container-id-2 div.sk-estimator:hover {background-color: #d4ebff;}#sk-container-id-2 div.sk-parallel-item::after {content: \"\";width: 100%;border-bottom: 1px solid gray;flex-grow: 1;}#sk-container-id-2 div.sk-label:hover label.sk-toggleable__label {background-color: #d4ebff;}#sk-container-id-2 div.sk-serial::before {content: \"\";position: absolute;border-left: 1px solid gray;box-sizing: border-box;top: 0;bottom: 0;left: 50%;z-index: 0;}#sk-container-id-2 div.sk-serial {display: flex;flex-direction: column;align-items: center;background-color: white;padding-right: 0.2em;padding-left: 0.2em;position: relative;}#sk-container-id-2 div.sk-item {position: relative;z-index: 1;}#sk-container-id-2 div.sk-parallel {display: flex;align-items: stretch;justify-content: center;background-color: white;position: relative;}#sk-container-id-2 div.sk-item::before, #sk-container-id-2 div.sk-parallel-item::before {content: \"\";position: absolute;border-left: 1px solid gray;box-sizing: border-box;top: 0;bottom: 0;left: 50%;z-index: -1;}#sk-container-id-2 div.sk-parallel-item {display: flex;flex-direction: column;z-index: 1;position: relative;background-color: white;}#sk-container-id-2 div.sk-parallel-item:first-child::after {align-self: flex-end;width: 50%;}#sk-container-id-2 div.sk-parallel-item:last-child::after {align-self: flex-start;width: 50%;}#sk-container-id-2 div.sk-parallel-item:only-child::after {width: 0;}#sk-container-id-2 div.sk-dashed-wrapped {border: 1px dashed gray;margin: 0 0.4em 0.5em 0.4em;box-sizing: border-box;padding-bottom: 0.4em;background-color: white;}#sk-container-id-2 div.sk-label label {font-family: monospace;font-weight: bold;display: inline-block;line-height: 1.2em;}#sk-container-id-2 div.sk-label-container {text-align: center;}#sk-container-id-2 div.sk-container {/* jupyter's `normalize.less` sets `[hidden] { display: none; }` but bootstrap.min.css set `[hidden] { display: none !important; }` so we also need the `!important` here to be able to override the default hidden behavior on the sphinx rendered scikit-learn.org. See: https://github.com/scikit-learn/scikit-learn/issues/21755 */display: inline-block !important;position: relative;}#sk-container-id-2 div.sk-text-repr-fallback {display: none;}</style><div id=\"sk-container-id-2\" class=\"sk-top-container\"><div class=\"sk-text-repr-fallback\"><pre>GridSearchCV(cv=3,\n",
              "             estimator=Pipeline(steps=[(&#x27;lsa&#x27;,\n",
              "                                        Pipeline(steps=[(&#x27;vect&#x27;,\n",
              "                                                         TfidfVectorizer(max_features=500,\n",
              "                                                                         stop_words=&#x27;english&#x27;)),\n",
              "                                                        (&#x27;svd&#x27;,\n",
              "                                                         TruncatedSVD(n_iter=10))])),\n",
              "                                       (&#x27;clf&#x27;, LGBMClassifier())]),\n",
              "             n_jobs=-1,\n",
              "             param_grid={&#x27;clf__learning_rate&#x27;: [0.1], &#x27;clf__max_depth&#x27;: [20],\n",
              "                         &#x27;clf__min_data_in_leaf&#x27;: [30],\n",
              "                         &#x27;clf__n_estimators&#x27;: [1500], &#x27;clf__num_leaves&#x27;: [50],\n",
              "                         &#x27;lsa__svd__n_components&#x27;: [50],\n",
              "                         &#x27;lsa__vect__max_df&#x27;: [0.75]},\n",
              "             verbose=1)</pre><b>In a Jupyter environment, please rerun this cell to show the HTML representation or trust the notebook. <br />On GitHub, the HTML representation is unable to render, please try loading this page with nbviewer.org.</b></div><div class=\"sk-container\" hidden><div class=\"sk-item sk-dashed-wrapped\"><div class=\"sk-label-container\"><div class=\"sk-label sk-toggleable\"><input class=\"sk-toggleable__control sk-hidden--visually\" id=\"sk-estimator-id-7\" type=\"checkbox\" ><label for=\"sk-estimator-id-7\" class=\"sk-toggleable__label sk-toggleable__label-arrow\">GridSearchCV</label><div class=\"sk-toggleable__content\"><pre>GridSearchCV(cv=3,\n",
              "             estimator=Pipeline(steps=[(&#x27;lsa&#x27;,\n",
              "                                        Pipeline(steps=[(&#x27;vect&#x27;,\n",
              "                                                         TfidfVectorizer(max_features=500,\n",
              "                                                                         stop_words=&#x27;english&#x27;)),\n",
              "                                                        (&#x27;svd&#x27;,\n",
              "                                                         TruncatedSVD(n_iter=10))])),\n",
              "                                       (&#x27;clf&#x27;, LGBMClassifier())]),\n",
              "             n_jobs=-1,\n",
              "             param_grid={&#x27;clf__learning_rate&#x27;: [0.1], &#x27;clf__max_depth&#x27;: [20],\n",
              "                         &#x27;clf__min_data_in_leaf&#x27;: [30],\n",
              "                         &#x27;clf__n_estimators&#x27;: [1500], &#x27;clf__num_leaves&#x27;: [50],\n",
              "                         &#x27;lsa__svd__n_components&#x27;: [50],\n",
              "                         &#x27;lsa__vect__max_df&#x27;: [0.75]},\n",
              "             verbose=1)</pre></div></div></div><div class=\"sk-parallel\"><div class=\"sk-parallel-item\"><div class=\"sk-item\"><div class=\"sk-label-container\"><div class=\"sk-label sk-toggleable\"><input class=\"sk-toggleable__control sk-hidden--visually\" id=\"sk-estimator-id-8\" type=\"checkbox\" ><label for=\"sk-estimator-id-8\" class=\"sk-toggleable__label sk-toggleable__label-arrow\">estimator: Pipeline</label><div class=\"sk-toggleable__content\"><pre>Pipeline(steps=[(&#x27;lsa&#x27;,\n",
              "                 Pipeline(steps=[(&#x27;vect&#x27;,\n",
              "                                  TfidfVectorizer(max_features=500,\n",
              "                                                  stop_words=&#x27;english&#x27;)),\n",
              "                                 (&#x27;svd&#x27;, TruncatedSVD(n_iter=10))])),\n",
              "                (&#x27;clf&#x27;, LGBMClassifier())])</pre></div></div></div><div class=\"sk-serial\"><div class=\"sk-item\"><div class=\"sk-serial\"><div class=\"sk-item\"><div class=\"sk-label-container\"><div class=\"sk-label sk-toggleable\"><input class=\"sk-toggleable__control sk-hidden--visually\" id=\"sk-estimator-id-9\" type=\"checkbox\" ><label for=\"sk-estimator-id-9\" class=\"sk-toggleable__label sk-toggleable__label-arrow\">lsa: Pipeline</label><div class=\"sk-toggleable__content\"><pre>Pipeline(steps=[(&#x27;vect&#x27;,\n",
              "                 TfidfVectorizer(max_features=500, stop_words=&#x27;english&#x27;)),\n",
              "                (&#x27;svd&#x27;, TruncatedSVD(n_iter=10))])</pre></div></div></div><div class=\"sk-serial\"><div class=\"sk-item\"><div class=\"sk-estimator sk-toggleable\"><input class=\"sk-toggleable__control sk-hidden--visually\" id=\"sk-estimator-id-10\" type=\"checkbox\" ><label for=\"sk-estimator-id-10\" class=\"sk-toggleable__label sk-toggleable__label-arrow\">TfidfVectorizer</label><div class=\"sk-toggleable__content\"><pre>TfidfVectorizer(max_features=500, stop_words=&#x27;english&#x27;)</pre></div></div></div><div class=\"sk-item\"><div class=\"sk-estimator sk-toggleable\"><input class=\"sk-toggleable__control sk-hidden--visually\" id=\"sk-estimator-id-11\" type=\"checkbox\" ><label for=\"sk-estimator-id-11\" class=\"sk-toggleable__label sk-toggleable__label-arrow\">TruncatedSVD</label><div class=\"sk-toggleable__content\"><pre>TruncatedSVD(n_iter=10)</pre></div></div></div></div></div><div class=\"sk-item\"><div class=\"sk-estimator sk-toggleable\"><input class=\"sk-toggleable__control sk-hidden--visually\" id=\"sk-estimator-id-12\" type=\"checkbox\" ><label for=\"sk-estimator-id-12\" class=\"sk-toggleable__label sk-toggleable__label-arrow\">LGBMClassifier</label><div class=\"sk-toggleable__content\"><pre>LGBMClassifier()</pre></div></div></div></div></div></div></div></div></div></div></div></div>"
            ]
          },
          "metadata": {},
          "execution_count": 65
        }
      ]
    },
    {
      "cell_type": "code",
      "source": [
        "gs.best_params_"
      ],
      "metadata": {
        "colab": {
          "base_uri": "https://localhost:8080/"
        },
        "id": "HUyy6pIfWcQC",
        "outputId": "ec75e969-a074-4d5e-abf1-c0d80a79ac3d"
      },
      "execution_count": null,
      "outputs": [
        {
          "output_type": "execute_result",
          "data": {
            "text/plain": [
              "{'clf__learning_rate': 0.1,\n",
              " 'clf__max_depth': 20,\n",
              " 'clf__min_data_in_leaf': 30,\n",
              " 'clf__n_estimators': 1500,\n",
              " 'clf__num_leaves': 50,\n",
              " 'lsa__svd__n_components': 50,\n",
              " 'lsa__vect__max_df': 0.75}"
            ]
          },
          "metadata": {},
          "execution_count": 66
        }
      ]
    },
    {
      "cell_type": "code",
      "source": [
        "print(gs.best_score_)"
      ],
      "metadata": {
        "colab": {
          "base_uri": "https://localhost:8080/"
        },
        "id": "qoU5ogUVfJrP",
        "outputId": "5dbc6c26-44a1-4ef6-b1a0-1a821355c3f0"
      },
      "execution_count": null,
      "outputs": [
        {
          "output_type": "stream",
          "name": "stdout",
          "text": [
            "0.5662493144846017\n"
          ]
        }
      ]
    },
    {
      "cell_type": "code",
      "execution_count": null,
      "metadata": {
        "deletable": false,
        "editable": false,
        "nbgrader": {
          "cell_type": "code",
          "checksum": "ada8e7da1ec21f54451752e97b8cec3e",
          "grade": true,
          "grade_id": "cell-d07134c6fe5d056e",
          "locked": true,
          "points": 1,
          "schema_version": 3,
          "solution": false,
          "task": false
        },
        "id": "2m_Pzt7zPybe"
      },
      "outputs": [],
      "source": [
        "# Visible Testing\n",
        "prediction = gs.predict([\"This is your prediction statement.\"])[0]\n",
        "assert prediction in df.stars.values, 'You gs object should be able to accept raw text within a list. Did you include a vectorizer in your pipeline?'"
      ]
    },
    {
      "cell_type": "markdown",
      "metadata": {
        "deletable": false,
        "editable": false,
        "nbgrader": {
          "cell_type": "markdown",
          "checksum": "2990aa9aa4e9c3cf665cee4392cdab92",
          "grade": false,
          "grade_id": "cell-00b8cbd0b1b4ece5",
          "locked": true,
          "schema_version": 3,
          "solution": false,
          "task": false
        },
        "id": "JL8T26sLPybe"
      },
      "source": [
        "## Part 4: Topic Modeling\n",
        "\n",
        "Let's find out what those yelp reviews are saying! :D\n",
        "\n",
        "1. Estimate a LDA topic model of the review text\n",
        "    - Set num_topics to `5`\n",
        "    - Name your LDA model `lda`\n",
        "2. Create 1-2 visualizations of the results\n",
        "    - You can use the most important 3 words of a topic in relevant visualizations.\n",
        "3. In markdown, write 1-2 paragraphs of analysis on the results of your topic model\n",
        "\n",
        "When you instantiate your LDA model, it should look like this:\n",
        "\n",
        "```python\n",
        "lda = LdaModel(corpus=corpus,\n",
        "               id2word=id2word,\n",
        "               random_state=723812,\n",
        "               num_topics = num_topics,\n",
        "               passes=1\n",
        "              )\n",
        "\n",
        "```\n",
        "\n",
        "__*Note*__: You can pass the DataFrame column of text reviews to gensim. You do not have to use a generator."
      ]
    },
    {
      "cell_type": "markdown",
      "metadata": {
        "deletable": false,
        "editable": false,
        "nbgrader": {
          "cell_type": "markdown",
          "checksum": "9b07079124654b07cce6d10dae1912b6",
          "grade": false,
          "grade_id": "cell-9eee6fe0eeebb9a3",
          "locked": true,
          "schema_version": 3,
          "solution": false,
          "task": false
        },
        "id": "7ye3qVSWPybe"
      },
      "source": [
        "## Note about  pyLDAvis\n",
        "\n",
        "**pyLDAvis** is the Topic modeling package that we used in class to visualize the topics that LDA generates for us.\n",
        "\n",
        "You are welcomed to use pyLDAvis if you'd like for your visualization. However, **you MUST comment out the code that imports the package and the cell that generates the visualization before you submit your notebook to CodeGrade.**\n",
        "\n",
        "Although you should leave the print out of the visualization for graders to see (i.e. comment out the cell after you run it to create the viz)."
      ]
    },
    {
      "cell_type": "markdown",
      "metadata": {
        "deletable": false,
        "editable": false,
        "nbgrader": {
          "cell_type": "markdown",
          "checksum": "58830f560044227aa07c22d463e1596c",
          "grade": false,
          "grade_id": "cell-ec7b71ad284832d4",
          "locked": true,
          "schema_version": 3,
          "solution": false,
          "task": false
        },
        "id": "9pCFLqhVPybe"
      },
      "source": [
        "### 1. Estimate a LDA topic model of the review text\n",
        "\n",
        "* Use the `tokenize` function you created earlier to create tokens.\n",
        "* Create an `id2word` object.\n",
        "> Hint: Use `corpora.Dictionary`\n",
        "* Create a `corpus` object.\n",
        "> Hint: Use `id2word.doc2bow`\n",
        "* Instantiate an `lda` model.\n",
        "\n",
        ">> Remember to read the LDA docs for more information on the various class attributes and methods available to you in the LDA model: https://radimrehurek.com/gensim/models/ldamodel.html"
      ]
    },
    {
      "cell_type": "code",
      "source": [
        "df['lemmas'] = df['cleaned_text'].apply(tokenize)"
      ],
      "metadata": {
        "id": "GOikP_8P9DCQ"
      },
      "execution_count": null,
      "outputs": []
    },
    {
      "cell_type": "code",
      "execution_count": null,
      "metadata": {
        "deletable": false,
        "editable": false,
        "nbgrader": {
          "cell_type": "code",
          "checksum": "bef17fce3f84cc31020898134cfdaec1",
          "grade": false,
          "grade_id": "cell-b4df1a20c7947a8b",
          "locked": true,
          "schema_version": 3,
          "solution": false,
          "task": false
        },
        "id": "MOS3N4VLPybe"
      },
      "outputs": [],
      "source": [
        "from gensim.models import LdaModel\n",
        "from gensim import corpora\n",
        "from gensim.corpora import Dictionary\n",
        "\n",
        "# YO\n",
        "\n",
        "\n",
        "#raise NotImplemented\n",
        "\n",
        "id2word = corpora.Dictionary(df['lemmas'])\n",
        "corpus = [id2word.doc2bow(text) for text in df['lemmas']]\n",
        "\n",
        "# YO\n",
        "# Do not change this value\n",
        "num_topics = 5"
      ]
    },
    {
      "cell_type": "code",
      "execution_count": null,
      "metadata": {
        "deletable": false,
        "nbgrader": {
          "cell_type": "code",
          "checksum": "fb50f495592df233d97bd4199b958404",
          "grade": false,
          "grade_id": "cell-66331a185ff52f15",
          "locked": false,
          "schema_version": 3,
          "solution": true,
          "task": false
        },
        "id": "wfCEgGy_Pybe"
      },
      "outputs": [],
      "source": [
        "# Running this renders the corpus and id2word?\n",
        "\n",
        "lda = LdaModel(corpus=corpus,\n",
        "               id2word=id2word,\n",
        "               random_state=723812,\n",
        "               num_topics=num_topics,\n",
        "               passes=5\n",
        "               )\n",
        "#raise NotImplementedError()"
      ]
    },
    {
      "cell_type": "markdown",
      "metadata": {
        "id": "-JX-GeZsPybe"
      },
      "source": [
        "#### Testing"
      ]
    },
    {
      "cell_type": "code",
      "execution_count": null,
      "metadata": {
        "deletable": false,
        "editable": false,
        "nbgrader": {
          "cell_type": "code",
          "checksum": "073be746ce974f75f29c2c92f35af430",
          "grade": true,
          "grade_id": "cell-5a3c181311134fa9",
          "locked": true,
          "points": 1,
          "schema_version": 3,
          "solution": false,
          "task": false
        },
        "id": "lB0r2gDiPybf"
      },
      "outputs": [],
      "source": [
        "# Visible Testing\n",
        "\n",
        "assert lda.get_topics().shape[0] == 5, 'Did your model complete its training? Did you set num_topics to 5?'"
      ]
    },
    {
      "cell_type": "markdown",
      "metadata": {
        "id": "DFR335QPPybf"
      },
      "source": [
        "#### 2. Create 2 visualizations of the results:\n",
        "1. Create a visualization using pyLDAvis. Run the cell, then comment out your code before submission, leaving the visualization in the cell.\n",
        "\n",
        "2. Create a visualization using the matplotlib library and utilizing the subplots function. Assign this visualization to a variable called `visual_plot`.\n"
      ]
    },
    {
      "cell_type": "code",
      "source": [
        "#!pip install ipywidgets"
      ],
      "metadata": {
        "id": "yV4DpmI801bU",
        "colab": {
          "base_uri": "https://localhost:8080/"
        },
        "outputId": "80e0ff40-507c-4802-f87f-c44a1a6c1092"
      },
      "execution_count": null,
      "outputs": [
        {
          "output_type": "stream",
          "name": "stdout",
          "text": [
            "Requirement already satisfied: ipywidgets in /usr/local/lib/python3.10/dist-packages (7.7.1)\n",
            "Requirement already satisfied: ipykernel>=4.5.1 in /usr/local/lib/python3.10/dist-packages (from ipywidgets) (5.5.6)\n",
            "Requirement already satisfied: ipython-genutils~=0.2.0 in /usr/local/lib/python3.10/dist-packages (from ipywidgets) (0.2.0)\n",
            "Requirement already satisfied: traitlets>=4.3.1 in /usr/local/lib/python3.10/dist-packages (from ipywidgets) (5.7.1)\n",
            "Requirement already satisfied: widgetsnbextension~=3.6.0 in /usr/local/lib/python3.10/dist-packages (from ipywidgets) (3.6.4)\n",
            "Requirement already satisfied: ipython>=4.0.0 in /usr/local/lib/python3.10/dist-packages (from ipywidgets) (7.34.0)\n",
            "Requirement already satisfied: jupyterlab-widgets>=1.0.0 in /usr/local/lib/python3.10/dist-packages (from ipywidgets) (3.0.8)\n",
            "Requirement already satisfied: jupyter-client in /usr/local/lib/python3.10/dist-packages (from ipykernel>=4.5.1->ipywidgets) (6.1.12)\n",
            "Requirement already satisfied: tornado>=4.2 in /usr/local/lib/python3.10/dist-packages (from ipykernel>=4.5.1->ipywidgets) (6.3.1)\n",
            "Requirement already satisfied: setuptools>=18.5 in /usr/local/lib/python3.10/dist-packages (from ipython>=4.0.0->ipywidgets) (67.7.2)\n",
            "Requirement already satisfied: jedi>=0.16 in /usr/local/lib/python3.10/dist-packages (from ipython>=4.0.0->ipywidgets) (0.18.2)\n",
            "Requirement already satisfied: decorator in /usr/local/lib/python3.10/dist-packages (from ipython>=4.0.0->ipywidgets) (4.4.2)\n",
            "Requirement already satisfied: pickleshare in /usr/local/lib/python3.10/dist-packages (from ipython>=4.0.0->ipywidgets) (0.7.5)\n",
            "Requirement already satisfied: prompt-toolkit!=3.0.0,!=3.0.1,<3.1.0,>=2.0.0 in /usr/local/lib/python3.10/dist-packages (from ipython>=4.0.0->ipywidgets) (3.0.39)\n",
            "Requirement already satisfied: pygments in /usr/local/lib/python3.10/dist-packages (from ipython>=4.0.0->ipywidgets) (2.14.0)\n",
            "Requirement already satisfied: backcall in /usr/local/lib/python3.10/dist-packages (from ipython>=4.0.0->ipywidgets) (0.2.0)\n",
            "Requirement already satisfied: matplotlib-inline in /usr/local/lib/python3.10/dist-packages (from ipython>=4.0.0->ipywidgets) (0.1.6)\n",
            "Requirement already satisfied: pexpect>4.3 in /usr/local/lib/python3.10/dist-packages (from ipython>=4.0.0->ipywidgets) (4.8.0)\n",
            "Requirement already satisfied: notebook>=4.4.1 in /usr/local/lib/python3.10/dist-packages (from widgetsnbextension~=3.6.0->ipywidgets) (6.4.8)\n",
            "Requirement already satisfied: parso<0.9.0,>=0.8.0 in /usr/local/lib/python3.10/dist-packages (from jedi>=0.16->ipython>=4.0.0->ipywidgets) (0.8.3)\n",
            "Requirement already satisfied: jinja2 in /usr/local/lib/python3.10/dist-packages (from notebook>=4.4.1->widgetsnbextension~=3.6.0->ipywidgets) (3.1.2)\n",
            "Requirement already satisfied: pyzmq>=17 in /usr/local/lib/python3.10/dist-packages (from notebook>=4.4.1->widgetsnbextension~=3.6.0->ipywidgets) (23.2.1)\n",
            "Requirement already satisfied: argon2-cffi in /usr/local/lib/python3.10/dist-packages (from notebook>=4.4.1->widgetsnbextension~=3.6.0->ipywidgets) (21.3.0)\n",
            "Requirement already satisfied: jupyter-core>=4.6.1 in /usr/local/lib/python3.10/dist-packages (from notebook>=4.4.1->widgetsnbextension~=3.6.0->ipywidgets) (5.3.1)\n",
            "Requirement already satisfied: nbformat in /usr/local/lib/python3.10/dist-packages (from notebook>=4.4.1->widgetsnbextension~=3.6.0->ipywidgets) (5.9.1)\n",
            "Requirement already satisfied: nbconvert in /usr/local/lib/python3.10/dist-packages (from notebook>=4.4.1->widgetsnbextension~=3.6.0->ipywidgets) (6.5.4)\n",
            "Requirement already satisfied: nest-asyncio>=1.5 in /usr/local/lib/python3.10/dist-packages (from notebook>=4.4.1->widgetsnbextension~=3.6.0->ipywidgets) (1.5.6)\n",
            "Requirement already satisfied: Send2Trash>=1.8.0 in /usr/local/lib/python3.10/dist-packages (from notebook>=4.4.1->widgetsnbextension~=3.6.0->ipywidgets) (1.8.2)\n",
            "Requirement already satisfied: terminado>=0.8.3 in /usr/local/lib/python3.10/dist-packages (from notebook>=4.4.1->widgetsnbextension~=3.6.0->ipywidgets) (0.17.1)\n",
            "Requirement already satisfied: prometheus-client in /usr/local/lib/python3.10/dist-packages (from notebook>=4.4.1->widgetsnbextension~=3.6.0->ipywidgets) (0.17.1)\n",
            "Requirement already satisfied: python-dateutil>=2.1 in /usr/local/lib/python3.10/dist-packages (from jupyter-client->ipykernel>=4.5.1->ipywidgets) (2.8.2)\n",
            "Requirement already satisfied: ptyprocess>=0.5 in /usr/local/lib/python3.10/dist-packages (from pexpect>4.3->ipython>=4.0.0->ipywidgets) (0.7.0)\n",
            "Requirement already satisfied: wcwidth in /usr/local/lib/python3.10/dist-packages (from prompt-toolkit!=3.0.0,!=3.0.1,<3.1.0,>=2.0.0->ipython>=4.0.0->ipywidgets) (0.2.6)\n",
            "Requirement already satisfied: platformdirs>=2.5 in /usr/local/lib/python3.10/dist-packages (from jupyter-core>=4.6.1->notebook>=4.4.1->widgetsnbextension~=3.6.0->ipywidgets) (3.9.1)\n",
            "Requirement already satisfied: six>=1.5 in /usr/local/lib/python3.10/dist-packages (from python-dateutil>=2.1->jupyter-client->ipykernel>=4.5.1->ipywidgets) (1.16.0)\n",
            "Requirement already satisfied: argon2-cffi-bindings in /usr/local/lib/python3.10/dist-packages (from argon2-cffi->notebook>=4.4.1->widgetsnbextension~=3.6.0->ipywidgets) (21.2.0)\n",
            "Requirement already satisfied: MarkupSafe>=2.0 in /usr/local/lib/python3.10/dist-packages (from jinja2->notebook>=4.4.1->widgetsnbextension~=3.6.0->ipywidgets) (2.1.3)\n",
            "Requirement already satisfied: lxml in /usr/local/lib/python3.10/dist-packages (from nbconvert->notebook>=4.4.1->widgetsnbextension~=3.6.0->ipywidgets) (4.9.3)\n",
            "Requirement already satisfied: beautifulsoup4 in /usr/local/lib/python3.10/dist-packages (from nbconvert->notebook>=4.4.1->widgetsnbextension~=3.6.0->ipywidgets) (4.11.2)\n",
            "Requirement already satisfied: bleach in /usr/local/lib/python3.10/dist-packages (from nbconvert->notebook>=4.4.1->widgetsnbextension~=3.6.0->ipywidgets) (6.0.0)\n",
            "Requirement already satisfied: defusedxml in /usr/local/lib/python3.10/dist-packages (from nbconvert->notebook>=4.4.1->widgetsnbextension~=3.6.0->ipywidgets) (0.7.1)\n",
            "Requirement already satisfied: entrypoints>=0.2.2 in /usr/local/lib/python3.10/dist-packages (from nbconvert->notebook>=4.4.1->widgetsnbextension~=3.6.0->ipywidgets) (0.4)\n",
            "Requirement already satisfied: jupyterlab-pygments in /usr/local/lib/python3.10/dist-packages (from nbconvert->notebook>=4.4.1->widgetsnbextension~=3.6.0->ipywidgets) (0.2.2)\n",
            "Requirement already satisfied: mistune<2,>=0.8.1 in /usr/local/lib/python3.10/dist-packages (from nbconvert->notebook>=4.4.1->widgetsnbextension~=3.6.0->ipywidgets) (0.8.4)\n",
            "Requirement already satisfied: nbclient>=0.5.0 in /usr/local/lib/python3.10/dist-packages (from nbconvert->notebook>=4.4.1->widgetsnbextension~=3.6.0->ipywidgets) (0.8.0)\n",
            "Requirement already satisfied: packaging in /usr/local/lib/python3.10/dist-packages (from nbconvert->notebook>=4.4.1->widgetsnbextension~=3.6.0->ipywidgets) (23.1)\n",
            "Requirement already satisfied: pandocfilters>=1.4.1 in /usr/local/lib/python3.10/dist-packages (from nbconvert->notebook>=4.4.1->widgetsnbextension~=3.6.0->ipywidgets) (1.5.0)\n",
            "Requirement already satisfied: tinycss2 in /usr/local/lib/python3.10/dist-packages (from nbconvert->notebook>=4.4.1->widgetsnbextension~=3.6.0->ipywidgets) (1.2.1)\n",
            "Requirement already satisfied: fastjsonschema in /usr/local/lib/python3.10/dist-packages (from nbformat->notebook>=4.4.1->widgetsnbextension~=3.6.0->ipywidgets) (2.17.1)\n",
            "Requirement already satisfied: jsonschema>=2.6 in /usr/local/lib/python3.10/dist-packages (from nbformat->notebook>=4.4.1->widgetsnbextension~=3.6.0->ipywidgets) (4.3.3)\n",
            "Requirement already satisfied: attrs>=17.4.0 in /usr/local/lib/python3.10/dist-packages (from jsonschema>=2.6->nbformat->notebook>=4.4.1->widgetsnbextension~=3.6.0->ipywidgets) (23.1.0)\n",
            "Requirement already satisfied: pyrsistent!=0.17.0,!=0.17.1,!=0.17.2,>=0.14.0 in /usr/local/lib/python3.10/dist-packages (from jsonschema>=2.6->nbformat->notebook>=4.4.1->widgetsnbextension~=3.6.0->ipywidgets) (0.19.3)\n",
            "Requirement already satisfied: cffi>=1.0.1 in /usr/local/lib/python3.10/dist-packages (from argon2-cffi-bindings->argon2-cffi->notebook>=4.4.1->widgetsnbextension~=3.6.0->ipywidgets) (1.15.1)\n",
            "Requirement already satisfied: soupsieve>1.2 in /usr/local/lib/python3.10/dist-packages (from beautifulsoup4->nbconvert->notebook>=4.4.1->widgetsnbextension~=3.6.0->ipywidgets) (2.4.1)\n",
            "Requirement already satisfied: webencodings in /usr/local/lib/python3.10/dist-packages (from bleach->nbconvert->notebook>=4.4.1->widgetsnbextension~=3.6.0->ipywidgets) (0.5.1)\n",
            "Requirement already satisfied: pycparser in /usr/local/lib/python3.10/dist-packages (from cffi>=1.0.1->argon2-cffi-bindings->argon2-cffi->notebook>=4.4.1->widgetsnbextension~=3.6.0->ipywidgets) (2.21)\n"
          ]
        }
      ]
    },
    {
      "cell_type": "code",
      "execution_count": null,
      "metadata": {
        "id": "4OPD97s5Pybf",
        "colab": {
          "base_uri": "https://localhost:8080/",
          "height": 916
        },
        "outputId": "cae8e598-87e0-4efd-bf1b-6ac12f80b3c1"
      },
      "outputs": [
        {
          "output_type": "stream",
          "name": "stderr",
          "text": [
            "/usr/local/lib/python3.10/dist-packages/pyLDAvis/_prepare.py:247: FutureWarning: In a future version of pandas all arguments of DataFrame.drop except for the argument 'labels' will be keyword-only.\n",
            "  by='saliency', ascending=False).head(R).drop('saliency', 1)\n"
          ]
        },
        {
          "output_type": "execute_result",
          "data": {
            "text/plain": [
              "PreparedData(topic_coordinates=              x         y  topics  cluster       Freq\n",
              "topic                                                \n",
              "0     -0.126093 -0.042678       1        1  31.539458\n",
              "3     -0.119637 -0.159336       2        1  24.792976\n",
              "4     -0.018657  0.119201       3        1  21.990301\n",
              "1     -0.050103  0.132377       4        1  19.175401\n",
              "2      0.314490 -0.049564       5        1   2.501864, topic_info=            Term         Freq        Total Category  logprob  loglift\n",
              "137         food  4857.000000  4857.000000  Default  30.0000  30.0000\n",
              "721          car   567.000000   567.000000  Default  29.0000  29.0000\n",
              "98          room  1109.000000  1109.000000  Default  28.0000  28.0000\n",
              "97    restaurant  1664.000000  1664.000000  Default  27.0000  27.0000\n",
              "44       service  3634.000000  3634.000000  Default  26.0000  26.0000\n",
              "...          ...          ...          ...      ...      ...      ...\n",
              "44       service    63.147366  3634.498625   Topic5  -5.2696  -0.3646\n",
              "1663      carpet    24.364667    61.228224   Topic5  -6.2219   2.7667\n",
              "1636       suite    23.780873    71.854295   Topic5  -6.2462   2.5824\n",
              "416       fridge    22.488876    55.128792   Topic5  -6.3020   2.7915\n",
              "89           not    23.455344  7401.656293   Topic5  -6.2599  -2.0662\n",
              "\n",
              "[411 rows x 6 columns], token_table=       Topic      Freq     Term\n",
              "term                           \n",
              "4996       3  0.960215    agent\n",
              "4996       4  0.029097    agent\n",
              "9911       1  0.974095      ahi\n",
              "10158      4  0.092754  airline\n",
              "10158      5  0.881164  airline\n",
              "...      ...       ...      ...\n",
              "113        2  0.038833     year\n",
              "113        3  0.226703     year\n",
              "113        4  0.531072     year\n",
              "113        5  0.001050     year\n",
              "11518      2  0.977924      yuk\n",
              "\n",
              "[825 rows x 3 columns], R=30, lambda_step=0.01, plot_opts={'xlab': 'PC1', 'ylab': 'PC2'}, topic_order=[1, 4, 5, 2, 3])"
            ],
            "text/html": [
              "\n",
              "<link rel=\"stylesheet\" type=\"text/css\" href=\"https://cdn.jsdelivr.net/gh/bmabey/pyLDAvis@3.3.1/pyLDAvis/js/ldavis.v1.0.0.css\">\n",
              "\n",
              "\n",
              "<div id=\"ldavis_el1761349830715382406236142058\"></div>\n",
              "<script type=\"text/javascript\">\n",
              "\n",
              "var ldavis_el1761349830715382406236142058_data = {\"mdsDat\": {\"x\": [-0.12609305000963708, -0.11963658140604526, -0.01865712595132431, -0.05010299698426466, 0.31448975435127113], \"y\": [-0.04267811377988731, -0.15933550142647834, 0.1192005834776916, 0.13237695415411357, -0.049563922425439375], \"topics\": [1, 2, 3, 4, 5], \"cluster\": [1, 1, 1, 1, 1], \"Freq\": [31.539458180329827, 24.792976334751266, 21.990300771045593, 19.175400927651683, 2.5018637862216355]}, \"tinfo\": {\"Term\": [\"food\", \"car\", \"room\", \"restaurant\", \"service\", \"stay\", \"order\", \"cheese\", \"hotel\", \"sauce\", \"fry\", \"chicken\", \"work\", \"delicious\", \"taste\", \"eat\", \"good\", \"cream\", \"flavor\", \"menu\", \"burger\", \"store\", \"hair\", \"customer\", \"job\", \"drink\", \"bread\", \"nail\", \"sushi\", \"la\", \"sushi\", \"pho\", \"indian\", \"naan\", \"ipa\", \"poke\", \"ayce\", \"quesadilla\", \"hibachi\", \"vietnamese\", \"bartender\", \"bowling\", \"pastor\", \"pistachio\", \"philly\", \"tikka\", \"pinot\", \"samosa\", \"masala\", \"ahi\", \"grub\", \"italy\", \"gnocchi\", \"buffet\", \"byob\", \"roti\", \"hostess\", \"asia\", \"hangover\", \"noir\", \"tap\", \"korean\", \"pub\", \"food\", \"beer\", \"dim\", \"restaurant\", \"wine\", \"waitress\", \"nachos\", \"bar\", \"table\", \"sashimi\", \"waiter\", \"server\", \"atmosphere\", \"drink\", \"roll\", \"dinner\", \"seat\", \"noodle\", \"lunch\", \"chinese\", \"place\", \"pizza\", \"order\", \"great\", \"wait\", \"eat\", \"service\", \"good\", \"menu\", \"night\", \"price\", \"come\", \"not\", \"time\", \"like\", \"go\", \"friendly\", \"love\", \"ve\", \"try\", \"nice\", \"staff\", \"get\", \"definitely\", \"chicken\", \"bacon\", \"chocolate\", \"toast\", \"donut\", \"pepper\", \"cookie\", \"cream\", \"creamy\", \"sugar\", \"pancake\", \"cupcake\", \"vanilla\", \"latte\", \"crunchy\", \"iced\", \"roasted\", \"carne\", \"honey\", \"syrup\", \"bun\", \"texture\", \"enchilada\", \"gyro\", \"seasoning\", \"yuk\", \"croissant\", \"cinnamon\", \"benedict\", \"waffle\", \"chewy\", \"tomato\", \"cheese\", \"milk\", \"onion\", \"cake\", \"avocado\", \"bread\", \"potato\", \"homemade\", \"egg\", \"sauce\", \"corn\", \"bean\", \"crispy\", \"ice\", \"juicy\", \"pork\", \"flavor\", \"fry\", \"sandwich\", \"butter\", \"burger\", \"tea\", \"sweet\", \"meat\", \"french\", \"taste\", \"delicious\", \"green\", \"salad\", \"steak\", \"chicken\", \"beef\", \"good\", \"coffee\", \"fresh\", \"try\", \"dessert\", \"order\", \"like\", \"cook\", \"little\", \"not\", \"love\", \"place\", \"eat\", \"come\", \"get\", \"menu\", \"food\", \"great\", \"time\", \"gym\", \"apartment\", \"doctor\", \"vet\", \"dentist\", \"theater\", \"ticket\", \"performance\", \"trail\", \"couch\", \"deposit\", \"construction\", \"exhibit\", \"theatre\", \"canal\", \"pool\", \"swim\", \"camera\", \"hall\", \"river\", \"mandalay\", \"library\", \"nevada\", \"neighbor\", \"chase\", \"climb\", \"xray\", \"pest\", \"attorney\", \"scorpion\", \"fee\", \"dental\", \"agent\", \"print\", \"bouncer\", \"office\", \"nurse\", \"museum\", \"room\", \"security\", \"bank\", \"animal\", \"hotel\", \"casino\", \"situation\", \"desk\", \"dog\", \"refund\", \"lobby\", \"driver\", \"park\", \"tour\", \"card\", \"parking\", \"charge\", \"stay\", \"floor\", \"dance\", \"money\", \"rude\", \"tell\", \"machine\", \"say\", \"pay\", \"call\", \"not\", \"store\", \"phone\", \"people\", \"check\", \"s\", \"manager\", \"ask\", \"leave\", \"go\", \"like\", \"time\", \"bad\", \"get\", \"day\", \"know\", \"need\", \"staff\", \"want\", \"come\", \"m\", \"place\", \"find\", \"experience\", \"hair\", \"nail\", \"salon\", \"massage\", \"pedicure\", \"gel\", \"haircut\", \"stylist\", \"technician\", \"manicure\", \"eyebrow\", \"facial\", \"barber\", \"trim\", \"artist\", \"lash\", \"wax\", \"paint\", \"install\", \"brake\", \"pedi\", \"therapist\", \"professional\", \"plumbing\", \"repair\", \"balloon\", \"grateful\", \"appt\", \"plumber\", \"tattoo\", \"project\", \"warranty\", \"john\", \"job\", \"team\", \"tech\", \"spa\", \"appointment\", \"color\", \"thorough\", \"fix\", \"product\", \"polish\", \"company\", \"thank\", \"work\", \"purchase\", \"shop\", \"knowledgeable\", \"guy\", \"customer\", \"year\", \"help\", \"sale\", \"new\", \"recommend\", \"cut\", \"owner\", \"need\", \"look\", \"buy\", \"time\", \"service\", \"day\", \"take\", \"go\", \"not\", \"great\", \"know\", \"store\", \"find\", \"come\", \"place\", \"good\", \"get\", \"experience\", \"want\", \"ve\", \"love\", \"like\", \"m\", \"price\", \"le\", \"et\", \"un\", \"les\", \"michael\", \"en\", \"des\", \"une\", \"est\", \"pas\", \"trs\", \"vous\", \"que\", \"mais\", \"y\", \"tint\", \"closet\", \"je\", \"tenant\", \"blind\", \"hollandaise\", \"bon\", \"jai\", \"il\", \"ce\", \"sont\", \"windshield\", \"avec\", \"du\", \"dent\", \"car\", \"de\", \"dealership\", \"la\", \"airline\", \"vehicle\", \"salesman\", \"tire\", \"hotel\", \"pour\", \"room\", \"bed\", \"stay\", \"wash\", \"ford\", \"service\", \"carpet\", \"suite\", \"fridge\", \"not\"], \"Freq\": [4857.0, 567.0, 1109.0, 1664.0, 3634.0, 635.0, 3402.0, 830.0, 484.0, 902.0, 959.0, 1363.0, 1426.0, 1213.0, 1164.0, 1516.0, 6249.0, 554.0, 741.0, 1264.0, 700.0, 785.0, 381.0, 1110.0, 483.0, 1391.0, 487.0, 365.0, 533.0, 172.0, 531.6696637654799, 111.8820296081558, 93.2730800887947, 47.17613392710081, 37.1134376215024, 41.690400108146186, 72.74303371236506, 36.2360184465439, 32.55516441541717, 31.91472000516094, 235.71316847804314, 27.2918064712079, 26.559820154828643, 28.01642017932056, 27.258657873734418, 23.324933509364822, 22.438034623441247, 22.332326053555867, 22.05420875795884, 21.83714341234353, 21.58496869313254, 21.19391879713792, 20.84251214742567, 267.0191316558366, 20.75134618804478, 20.475189668569957, 114.08855333610126, 19.210232435447647, 19.477440521988207, 18.206270037319083, 92.4897961771266, 85.27041209650086, 50.612503263394785, 4126.445325972109, 528.780447767938, 53.713852275342184, 1389.5449749410639, 364.40749137131934, 396.5038882024159, 69.91760259501424, 850.380833131545, 873.805836009663, 87.73730708310727, 268.8756151991745, 661.3596737262012, 380.0160797281497, 1053.5697908930003, 445.1751870859827, 518.0588248799096, 457.91735937703424, 239.2683549942794, 526.0689487740597, 141.3669968141273, 2829.6486004630938, 573.0506394442386, 1909.2247921259748, 2237.019951366576, 991.2494731433437, 910.606006440767, 1879.6847250849091, 2866.722370075355, 761.1416840977371, 633.877651710537, 954.951981776514, 1696.219977486043, 2531.6822353615244, 1568.8054583454366, 1231.2221047028104, 1050.431324456595, 683.4093328532267, 852.9776481084665, 734.9542515724817, 793.6942236394935, 664.8403912709996, 640.3833042779694, 692.7591778562676, 610.5722314129141, 580.8760226590634, 204.51054052907818, 312.1040707085047, 169.09853855412166, 168.54278746290373, 161.6822854427787, 146.12160881615972, 551.341721061252, 114.41018058438323, 87.1722329335961, 141.9589969007631, 67.46830422491149, 64.46989429419904, 68.86670002522823, 61.97987995745253, 65.98036477134548, 61.82419433614309, 60.360881156858035, 68.99434043276901, 58.44942145907196, 137.8577276967545, 113.58678245182077, 54.881821810604514, 54.50564290653711, 58.64788629527563, 53.45676465297842, 53.84752890862845, 54.98386264328553, 51.149383976112105, 93.78058993614073, 58.12130590722293, 198.45076404694188, 802.8070846171373, 123.80110130273674, 217.8549940414035, 231.43839107618595, 88.40060904953386, 466.2149129171074, 341.792498996165, 104.44885617700736, 405.3388478371557, 832.6641805861908, 138.27165296690504, 201.8621153294016, 191.14105726514106, 429.6722683614237, 110.57857580837337, 316.37495611956143, 629.6671755462636, 793.1951503426255, 481.02284241536006, 184.51261841719975, 576.5517208617077, 314.601609543544, 488.6585022520876, 507.7084083645693, 169.6588907026212, 762.6461686152165, 763.1844781600624, 284.7841251384101, 506.3776976561395, 351.95916505074314, 782.0453020539201, 343.99157786317255, 2231.805776895527, 426.7737721592182, 553.9784524968836, 1083.1508355513365, 368.10658265900895, 1262.323650929822, 1160.9078541841322, 367.6218718922186, 600.6250754713213, 1381.7323281237716, 743.5296675074961, 1095.1588872013022, 599.1567577574239, 828.0532699634754, 713.1849444091907, 494.56212592863665, 723.4396676215887, 664.4306124868081, 567.5096947777419, 124.03712629989198, 84.2434469138611, 148.63587366639854, 80.446905059509, 71.15536577243955, 71.1524902797683, 98.87351413942733, 46.219061935474436, 41.24933162798682, 36.05713047975775, 31.503743886247445, 37.21860035850265, 29.692456612376855, 30.190795816062877, 30.14351656374653, 265.11241309179246, 27.88748537699378, 29.431285909570736, 26.965745573386148, 27.11458057178085, 28.243431188138178, 32.11619557256752, 25.414520870320636, 39.800993685074566, 22.716961864836055, 22.83374893235647, 21.70674886504904, 21.768306696421284, 21.048135475966077, 21.090500335512935, 159.0435373173261, 56.01833286517356, 33.1909360719222, 46.439730884520145, 30.53527732673192, 300.49425797550543, 46.25839277355102, 42.26507743981869, 928.6554513791561, 56.26851956267758, 49.457930866730706, 65.07649892498706, 400.7752692721976, 155.23628456669198, 99.24342931998993, 133.04324468668213, 316.25223406218726, 78.1474903479563, 74.79158949281678, 81.2319208371299, 179.3724040882769, 93.72437318003189, 191.3679047468823, 289.9521995732222, 351.52347921031765, 453.4915634036873, 203.11814722708172, 85.63684285597391, 324.36232884183585, 236.37124856250705, 801.4940332298945, 102.46399994690042, 758.3035808112353, 460.1021327038543, 419.0033814606434, 2148.530353298209, 404.1309064358694, 222.1508197535974, 555.0175500164039, 404.79955265746037, 497.87621169573964, 246.22582563836576, 501.85498946772464, 396.17875028861846, 747.7000195133023, 835.1041979260177, 892.2253450143004, 413.556670958351, 613.7578631700708, 456.04987290954534, 459.68891561727935, 417.0368709486554, 424.9809405575645, 442.03685627506275, 503.09423891187964, 395.90202492840393, 475.8712340591245, 382.9076107633196, 355.32410200405036, 381.09346790841676, 364.78147744928657, 218.40017358927153, 165.1500863995233, 135.04692961522073, 93.45261421963833, 82.38925388971715, 69.39946273031842, 67.96231102707812, 63.05709220300707, 56.80941203126296, 54.84448313400391, 51.955764850892386, 48.61383474395324, 44.50909323538335, 40.06175615149624, 55.82349578631145, 59.833886370514676, 39.16351443818392, 36.46961324011287, 35.26938177752648, 34.7614448846511, 336.3066597292973, 39.13132048374861, 178.39068436796725, 31.77522498917401, 33.230237890670445, 29.479821495276394, 31.928160643820796, 26.637378086727313, 40.9878038497719, 61.597324527354175, 52.764361141723455, 431.9503351968367, 117.251646708359, 85.90746923308467, 96.56891017334274, 320.9247545573206, 155.85937266643145, 48.892803393252734, 273.30908295502354, 176.12876959429425, 73.86301586607821, 285.5948062092784, 410.98342905057666, 872.5335226624741, 205.88315534530784, 356.1763271462104, 133.98417052621616, 385.7518655027009, 576.844229637139, 505.95132984594926, 349.909967309041, 114.78536150375832, 509.45491679951124, 588.2275695699648, 254.2491450911757, 287.1864757545359, 561.6978021232138, 709.0730043360907, 269.80893411104154, 1129.681432105359, 1002.2318049129482, 564.7586393985014, 518.9217186799473, 796.4763194966314, 1316.2560326564872, 934.6581918828011, 543.7377746407433, 364.11542583860717, 500.90795157385, 748.6369298849738, 770.9100986837745, 822.6251356424001, 568.4805572597891, 432.3529662970817, 458.0151913927338, 459.46511008887325, 437.6079306504692, 449.84116251196394, 394.9564075084207, 392.2265922994499, 64.73055300599728, 59.5755461888064, 42.082508725579316, 38.25743859201042, 35.58381356459871, 33.10944903585672, 27.68619484387938, 24.56167365134624, 23.717280859216743, 22.142922916357577, 20.961031583159613, 19.976187854220427, 20.022561492357205, 19.72084069669084, 19.43758021192073, 19.128260716853557, 19.294094938294474, 18.16941314000996, 18.844001643837316, 18.048755393686857, 17.864745151851796, 16.95495554406698, 15.244313877436692, 15.099085717315047, 14.675377152926224, 14.616330444215174, 13.416184517871228, 13.059037074460466, 19.299909321930738, 13.06792436699147, 389.3454828115505, 97.8933400829949, 50.96022966681307, 108.46026090117918, 19.285240503459693, 45.52290952366064, 22.71598685323295, 40.23570048000792, 72.95477151280693, 32.55347681540008, 85.10745046584482, 40.15243622058387, 65.55437830888569, 28.224286763207903, 22.091539193844294, 63.14736634302212, 24.364667476356615, 23.780873358770688, 22.488875885524173, 23.455343590700895], \"Total\": [4857.0, 567.0, 1109.0, 1664.0, 3634.0, 635.0, 3402.0, 830.0, 484.0, 902.0, 959.0, 1363.0, 1426.0, 1213.0, 1164.0, 1516.0, 6249.0, 554.0, 741.0, 1264.0, 700.0, 785.0, 381.0, 1110.0, 483.0, 1391.0, 487.0, 365.0, 533.0, 172.0, 533.8754830302187, 112.73238288318827, 94.03319040241522, 47.92575201219404, 37.872613566324375, 42.569441225626235, 74.3137450008368, 37.02110299490638, 33.29630950075716, 32.659298116532504, 241.29840713513835, 28.047621328794957, 27.306448943405243, 28.891970601862855, 28.124606917283685, 24.067028796295816, 23.18272891835667, 23.07592772633828, 22.798545334170903, 22.585064138698414, 22.335037298243563, 21.943257853825823, 21.58572123709959, 276.5574477394442, 21.50464852504392, 21.221142408930735, 118.4572934472671, 19.964430056337022, 20.258571793413505, 18.951443496744893, 96.6549798230485, 89.32255512160191, 53.034098375160994, 4857.8040037750325, 601.7745300152816, 57.17749282620455, 1664.956128769979, 414.4937762902019, 453.76972120493525, 75.33385740897225, 1018.2394503081499, 1084.490951509126, 96.63420391397028, 315.30759260552827, 822.4043531950089, 459.4541783781785, 1391.2424671003982, 552.7062178464787, 675.5084374560113, 603.2142684865508, 302.33367467360364, 741.4057283020874, 169.556290762565, 5176.461146392336, 841.6004748275236, 3402.4585526053984, 4153.027720664636, 1653.7871986362682, 1516.0944723543448, 3634.498624954846, 6249.600233235433, 1264.243421629236, 1010.0313908629942, 1721.8537786288757, 3782.092723067294, 7401.656293030693, 4163.721965013617, 3683.5351302596137, 2986.163138867085, 1369.862629819282, 2190.8653900148447, 1907.5175510342058, 2485.9528952673913, 1727.1798958798943, 1573.555393249454, 2606.9344042159646, 1384.442502193589, 1363.5436062901329, 205.30309982319278, 313.4749459292948, 169.90577257907358, 169.44080154482387, 162.5882924922248, 146.98740770727537, 554.7572541528881, 115.16884674681425, 87.98859421151938, 143.37821085748973, 68.2302501629173, 65.21853311835933, 69.66879370765825, 62.729314223211496, 66.78986184667652, 62.586264857026606, 61.122498436380724, 69.86890642807434, 59.20159598515492, 139.6839604184262, 115.10087264183358, 55.631332377229405, 55.255660963795805, 59.45578127879061, 54.19646090479543, 54.60096883663177, 55.775385571391965, 51.89841596762481, 95.16695075267752, 58.98395764120222, 201.4146967587237, 830.1290697388341, 125.68058941252333, 222.49535424386403, 236.93402138928286, 89.72081134860072, 487.19677920833453, 355.1015511351079, 106.96991385368209, 427.49833213268977, 902.8233234527917, 142.8817914456474, 213.48713825805143, 201.72956666674835, 475.30326020560733, 115.19764760949064, 352.8144784416978, 741.1370159391669, 959.1610540390457, 571.6620845898744, 199.67645431958323, 700.6537266075981, 363.0744788825712, 612.9910370407974, 651.3484177034204, 182.6757669822423, 1164.5058332764495, 1213.1053610548101, 348.96135732858147, 748.9034351391847, 464.45324138772395, 1363.5436062901329, 453.6377321770337, 6249.600233235433, 617.8492480043556, 917.3486397655486, 2485.9528952673913, 509.6468206671777, 3402.4585526053984, 3683.5351302596137, 547.0962664055886, 1386.5307286824639, 7401.656293030693, 2190.8653900148447, 5176.461146392336, 1516.0944723543448, 3782.092723067294, 2606.9344042159646, 1264.243421629236, 4857.8040037750325, 4153.027720664636, 4163.721965013617, 124.78474744523014, 85.00153398616784, 150.0268731255096, 81.21208520570553, 71.91255407001546, 71.97924139533765, 100.47402258709651, 46.98999591324192, 41.99681698839378, 36.91371165579968, 32.26253229491408, 38.1180965257812, 30.4294967905065, 30.95334828313026, 30.936348359614787, 272.1859530230764, 28.6379957313965, 30.224540327045496, 27.71525720358168, 27.875919465400656, 29.048881482645097, 33.05297732583299, 26.16565351705384, 41.05652507155215, 23.46789886961432, 23.603483645364697, 22.45510935876684, 22.51977992750181, 21.786341649158288, 21.83247229094093, 165.4943391392674, 57.99616441984032, 34.367295753056446, 48.36848010057618, 31.67888550606879, 326.7495427405161, 48.49734506280926, 44.2995287532718, 1109.3113877293188, 59.760182846269196, 52.22100552525588, 69.87944360181115, 484.26857704361726, 178.10911747113815, 110.52864174655674, 152.2505388808841, 389.2414730614306, 86.15510424003922, 82.28039422661416, 90.01569806179519, 216.37863581111372, 106.0492046284103, 237.97909370347722, 381.2653051084113, 474.8802534053162, 635.3039245738437, 267.9392353513123, 98.31656047920187, 483.07386934927257, 336.6212533510913, 1497.5403032393501, 122.5879183819059, 1500.8168660795066, 834.7540471161828, 786.7844843462494, 7401.656293030693, 785.6542458014967, 370.4607737530225, 1412.00900368034, 895.9382709022859, 1342.064426645271, 460.1472425627157, 1467.9440938031046, 1005.5164314421651, 2986.163138867085, 3683.5351302596137, 4163.721965013617, 1191.9999414624433, 2606.9344042159646, 1503.9423037189863, 1612.5079609405493, 1344.4783086478017, 1573.555393249454, 1754.6828690395002, 3782.092723067294, 1648.7933330797082, 5176.461146392336, 1543.5790870011265, 1404.7645254286288, 381.8669705565944, 365.6387304240363, 219.15300617840688, 165.9433262122397, 135.98007753792575, 94.23147492642238, 83.13863578016812, 70.14826371864456, 68.71830806240526, 63.883935895517475, 57.568716322217035, 55.59487598218121, 52.704182085377965, 49.438521149457294, 45.27113133355716, 40.81011947482129, 56.87898223872098, 61.00723899073761, 39.9664228486531, 37.22467970145765, 36.025926402119836, 35.51310655266959, 343.73078198108186, 40.0057043179733, 182.41935222641715, 32.538420910624986, 34.03188428470928, 30.233970502081814, 32.74779203364845, 27.385454721323814, 42.195445881285536, 63.8536695961876, 54.717939241080785, 483.3897683694877, 126.04345074726248, 91.51564938686606, 103.66750001284066, 368.0802417556325, 178.34226193556145, 51.04721760340209, 345.6482788826692, 214.04314426781838, 81.42796065998303, 385.0971615351011, 591.0537539780272, 1426.9164199708766, 273.5544239861828, 532.7563625517705, 167.38233726002622, 655.1360998270135, 1110.9037874179153, 952.7896687286751, 597.2815355936482, 144.02611711691338, 1115.7694112545676, 1365.2777487633991, 429.35056155567526, 510.2118259639844, 1344.4783086478017, 1906.1991161304315, 468.28268207450543, 4163.721965013617, 3634.498624954846, 1503.9423037189863, 1423.9003760794212, 2986.163138867085, 7401.656293030693, 4153.027720664636, 1612.5079609405493, 785.6542458014967, 1543.5790870011265, 3782.092723067294, 5176.461146392336, 6249.600233235433, 2606.9344042159646, 1404.7645254286288, 1754.6828690395002, 1907.5175510342058, 2190.8653900148447, 3683.5351302596137, 1648.7933330797082, 1721.8537786288757, 65.5233552836688, 60.35687777917664, 42.86312393373406, 39.04672635515159, 36.39217325223598, 33.91937604661224, 28.467076038153458, 25.34029949030696, 24.495801680825565, 22.92424865590434, 21.73954780897171, 20.755456898328468, 20.80903805363736, 20.499349421646805, 20.23154006242448, 19.91552841424954, 20.099894923362143, 18.950097340020353, 19.655476784498386, 18.872003132344922, 18.680781923686414, 17.736230847385823, 16.024055046860788, 15.88006120544707, 15.455234947778155, 15.394737806925034, 14.204593286875856, 13.837390702798526, 20.453515438456847, 13.876057341988552, 567.7566303805146, 130.8251061366003, 64.83440876183877, 172.5181299838552, 21.56239757407051, 90.79556345725018, 30.391016168362192, 118.54744003394832, 484.26857704361726, 78.04362603783571, 1109.3113877293188, 152.95095932108458, 635.3039245738437, 87.6098556722527, 34.63376289889257, 3634.498624954846, 61.228224193430535, 71.85429535833362, 55.12879193855333, 7401.656293030693], \"Category\": [\"Default\", \"Default\", \"Default\", \"Default\", \"Default\", \"Default\", \"Default\", \"Default\", \"Default\", \"Default\", \"Default\", \"Default\", \"Default\", \"Default\", \"Default\", \"Default\", \"Default\", \"Default\", \"Default\", \"Default\", \"Default\", \"Default\", \"Default\", \"Default\", \"Default\", \"Default\", \"Default\", \"Default\", \"Default\", \"Default\", \"Topic1\", \"Topic1\", \"Topic1\", \"Topic1\", \"Topic1\", \"Topic1\", \"Topic1\", \"Topic1\", \"Topic1\", \"Topic1\", \"Topic1\", \"Topic1\", \"Topic1\", \"Topic1\", \"Topic1\", \"Topic1\", \"Topic1\", \"Topic1\", \"Topic1\", \"Topic1\", \"Topic1\", \"Topic1\", \"Topic1\", \"Topic1\", \"Topic1\", \"Topic1\", \"Topic1\", \"Topic1\", \"Topic1\", \"Topic1\", \"Topic1\", \"Topic1\", \"Topic1\", \"Topic1\", \"Topic1\", \"Topic1\", \"Topic1\", \"Topic1\", \"Topic1\", \"Topic1\", \"Topic1\", \"Topic1\", \"Topic1\", \"Topic1\", \"Topic1\", \"Topic1\", \"Topic1\", \"Topic1\", \"Topic1\", \"Topic1\", \"Topic1\", \"Topic1\", \"Topic1\", \"Topic1\", \"Topic1\", \"Topic1\", \"Topic1\", \"Topic1\", \"Topic1\", \"Topic1\", \"Topic1\", \"Topic1\", \"Topic1\", \"Topic1\", \"Topic1\", \"Topic1\", \"Topic1\", \"Topic1\", \"Topic1\", \"Topic1\", \"Topic1\", \"Topic1\", \"Topic1\", \"Topic1\", \"Topic1\", \"Topic1\", \"Topic1\", \"Topic1\", \"Topic2\", \"Topic2\", \"Topic2\", \"Topic2\", \"Topic2\", \"Topic2\", \"Topic2\", \"Topic2\", \"Topic2\", \"Topic2\", \"Topic2\", \"Topic2\", \"Topic2\", \"Topic2\", \"Topic2\", \"Topic2\", \"Topic2\", \"Topic2\", \"Topic2\", \"Topic2\", \"Topic2\", \"Topic2\", \"Topic2\", \"Topic2\", \"Topic2\", \"Topic2\", \"Topic2\", \"Topic2\", \"Topic2\", \"Topic2\", \"Topic2\", \"Topic2\", \"Topic2\", \"Topic2\", \"Topic2\", \"Topic2\", \"Topic2\", \"Topic2\", \"Topic2\", \"Topic2\", \"Topic2\", \"Topic2\", \"Topic2\", \"Topic2\", \"Topic2\", \"Topic2\", \"Topic2\", \"Topic2\", \"Topic2\", \"Topic2\", \"Topic2\", \"Topic2\", \"Topic2\", \"Topic2\", \"Topic2\", \"Topic2\", \"Topic2\", \"Topic2\", \"Topic2\", \"Topic2\", \"Topic2\", \"Topic2\", \"Topic2\", \"Topic2\", \"Topic2\", \"Topic2\", \"Topic2\", \"Topic2\", \"Topic2\", \"Topic2\", \"Topic2\", \"Topic2\", \"Topic2\", \"Topic2\", \"Topic2\", \"Topic2\", \"Topic2\", \"Topic2\", \"Topic2\", \"Topic2\", \"Topic2\", \"Topic2\", \"Topic3\", \"Topic3\", \"Topic3\", \"Topic3\", \"Topic3\", \"Topic3\", \"Topic3\", \"Topic3\", \"Topic3\", \"Topic3\", \"Topic3\", \"Topic3\", \"Topic3\", \"Topic3\", \"Topic3\", \"Topic3\", \"Topic3\", \"Topic3\", \"Topic3\", \"Topic3\", \"Topic3\", \"Topic3\", \"Topic3\", \"Topic3\", \"Topic3\", \"Topic3\", \"Topic3\", \"Topic3\", \"Topic3\", \"Topic3\", \"Topic3\", \"Topic3\", \"Topic3\", \"Topic3\", \"Topic3\", \"Topic3\", \"Topic3\", \"Topic3\", \"Topic3\", \"Topic3\", \"Topic3\", \"Topic3\", \"Topic3\", \"Topic3\", \"Topic3\", \"Topic3\", \"Topic3\", \"Topic3\", \"Topic3\", \"Topic3\", \"Topic3\", \"Topic3\", \"Topic3\", \"Topic3\", \"Topic3\", \"Topic3\", \"Topic3\", \"Topic3\", \"Topic3\", \"Topic3\", \"Topic3\", \"Topic3\", \"Topic3\", \"Topic3\", \"Topic3\", \"Topic3\", \"Topic3\", \"Topic3\", \"Topic3\", \"Topic3\", \"Topic3\", \"Topic3\", \"Topic3\", \"Topic3\", \"Topic3\", \"Topic3\", \"Topic3\", \"Topic3\", \"Topic3\", \"Topic3\", \"Topic3\", \"Topic3\", \"Topic3\", \"Topic3\", \"Topic3\", \"Topic3\", \"Topic3\", \"Topic3\", \"Topic3\", \"Topic4\", \"Topic4\", \"Topic4\", \"Topic4\", \"Topic4\", \"Topic4\", \"Topic4\", \"Topic4\", \"Topic4\", \"Topic4\", \"Topic4\", \"Topic4\", \"Topic4\", \"Topic4\", \"Topic4\", \"Topic4\", \"Topic4\", \"Topic4\", \"Topic4\", \"Topic4\", \"Topic4\", \"Topic4\", \"Topic4\", \"Topic4\", \"Topic4\", \"Topic4\", \"Topic4\", \"Topic4\", \"Topic4\", \"Topic4\", \"Topic4\", \"Topic4\", \"Topic4\", \"Topic4\", \"Topic4\", \"Topic4\", \"Topic4\", \"Topic4\", \"Topic4\", \"Topic4\", \"Topic4\", \"Topic4\", \"Topic4\", \"Topic4\", \"Topic4\", \"Topic4\", \"Topic4\", \"Topic4\", \"Topic4\", \"Topic4\", \"Topic4\", \"Topic4\", \"Topic4\", \"Topic4\", \"Topic4\", \"Topic4\", \"Topic4\", \"Topic4\", \"Topic4\", \"Topic4\", \"Topic4\", \"Topic4\", \"Topic4\", \"Topic4\", \"Topic4\", \"Topic4\", \"Topic4\", \"Topic4\", \"Topic4\", \"Topic4\", \"Topic4\", \"Topic4\", \"Topic4\", \"Topic4\", \"Topic4\", \"Topic4\", \"Topic4\", \"Topic4\", \"Topic4\", \"Topic4\", \"Topic4\", \"Topic4\", \"Topic5\", \"Topic5\", \"Topic5\", \"Topic5\", \"Topic5\", \"Topic5\", \"Topic5\", \"Topic5\", \"Topic5\", \"Topic5\", \"Topic5\", \"Topic5\", \"Topic5\", \"Topic5\", \"Topic5\", \"Topic5\", \"Topic5\", \"Topic5\", \"Topic5\", \"Topic5\", \"Topic5\", \"Topic5\", \"Topic5\", \"Topic5\", \"Topic5\", \"Topic5\", \"Topic5\", \"Topic5\", \"Topic5\", \"Topic5\", \"Topic5\", \"Topic5\", \"Topic5\", \"Topic5\", \"Topic5\", \"Topic5\", \"Topic5\", \"Topic5\", \"Topic5\", \"Topic5\", \"Topic5\", \"Topic5\", \"Topic5\", \"Topic5\", \"Topic5\", \"Topic5\", \"Topic5\", \"Topic5\", \"Topic5\", \"Topic5\"], \"logprob\": [30.0, 29.0, 28.0, 27.0, 26.0, 25.0, 24.0, 23.0, 22.0, 21.0, 20.0, 19.0, 18.0, 17.0, 16.0, 15.0, 14.0, 13.0, 12.0, 11.0, 10.0, 9.0, 8.0, 7.0, 6.0, 5.0, 4.0, 3.0, 2.0, 1.0, -5.6732, -7.2318, -7.4137, -8.0954, -8.3353, -8.219, -7.6623, -8.3592, -8.4663, -8.4862, -6.4866, -8.6427, -8.6698, -8.6165, -8.6439, -8.7997, -8.8385, -8.8432, -8.8557, -8.8656, -8.8772, -8.8955, -8.9122, -6.3619, -8.9166, -8.93, -7.2123, -8.9938, -8.98, -9.0475, -7.4221, -7.5034, -8.025, -3.6241, -5.6787, -7.9656, -4.7125, -6.051, -5.9666, -7.7019, -5.2036, -5.1764, -7.4749, -6.355, -5.4549, -6.009, -4.9893, -5.8508, -5.6992, -5.8226, -6.4717, -5.6838, -6.9979, -4.0013, -5.5983, -4.3948, -4.2363, -5.0503, -5.1351, -4.4104, -3.9883, -5.3144, -5.4974, -5.0876, -4.5131, -4.1126, -4.5912, -4.8335, -4.9923, -5.4221, -5.2005, -5.3494, -5.2725, -5.4497, -5.4872, -5.4086, -5.5348, -5.5847, -6.3879, -5.9652, -6.5781, -6.5814, -6.6229, -6.7241, -5.3962, -6.9688, -7.2407, -6.753, -7.4969, -7.5424, -7.4764, -7.5818, -7.5192, -7.5843, -7.6082, -7.4745, -7.6404, -6.7823, -6.976, -7.7034, -7.7103, -7.637, -7.7297, -7.7224, -7.7015, -7.7738, -7.1676, -7.646, -6.418, -5.0204, -6.8899, -6.3247, -6.2642, -7.2267, -5.5639, -5.8744, -7.0599, -5.7038, -4.9839, -6.7793, -6.401, -6.4556, -5.6455, -7.0028, -5.9516, -5.2634, -5.0325, -5.5326, -6.4908, -5.3515, -5.9573, -5.5169, -5.4787, -6.5748, -5.0718, -5.0711, -6.0568, -5.4813, -5.845, -5.0466, -5.8679, -3.998, -5.6523, -5.3914, -4.7209, -5.8002, -4.5679, -4.6516, -5.8015, -5.3106, -4.4775, -5.0972, -4.7099, -5.313, -4.9895, -5.1388, -5.5049, -5.1245, -5.2096, -5.3673, -6.768, -7.1549, -6.5871, -7.201, -7.3237, -7.3238, -6.9948, -7.7552, -7.869, -8.0035, -8.1385, -7.9718, -8.1977, -8.1811, -8.1826, -6.0084, -8.2604, -8.2065, -8.294, -8.2885, -8.2477, -8.1192, -8.3533, -7.9047, -8.4655, -8.4604, -8.511, -8.5081, -8.5418, -8.5398, -6.5194, -7.5629, -8.0863, -7.7504, -8.1697, -5.8832, -7.7544, -7.8446, -4.7549, -7.5585, -7.6875, -7.413, -5.5952, -6.5437, -6.991, -6.6979, -5.8321, -7.23, -7.2739, -7.1913, -6.3991, -7.0482, -6.3344, -5.9189, -5.7263, -5.4716, -6.2748, -7.1385, -5.8067, -6.1232, -4.9021, -6.9591, -4.9575, -5.4572, -5.5507, -3.9161, -5.5869, -6.1852, -5.2696, -5.5852, -5.3783, -6.0824, -5.3703, -5.6067, -4.9716, -4.861, -4.7949, -5.5638, -5.169, -5.466, -5.4581, -5.5554, -5.5366, -5.4972, -5.3678, -5.6074, -5.4235, -5.6408, -5.7156, -5.5086, -5.5523, -6.0653, -6.3448, -6.546, -6.9142, -7.0402, -7.2118, -7.2327, -7.3076, -7.4119, -7.4471, -7.5012, -7.5677, -7.6559, -7.7612, -7.4294, -7.3601, -7.7839, -7.8552, -7.8886, -7.9031, -5.6336, -7.7847, -6.2677, -7.9929, -7.9482, -8.0679, -7.9881, -8.1693, -7.7384, -7.331, -7.4858, -5.3833, -6.6873, -6.9984, -6.8814, -5.6804, -6.4027, -7.562, -5.841, -6.2804, -7.1494, -5.7971, -5.4331, -4.6802, -6.1243, -5.5762, -6.5539, -5.4964, -5.0941, -5.2252, -5.594, -6.7086, -5.2183, -5.0745, -5.9133, -5.7915, -5.1207, -4.8877, -5.8539, -4.4219, -4.5416, -5.1152, -5.1999, -4.7714, -4.2691, -4.6114, -5.1532, -5.5542, -5.2352, -4.8334, -4.8041, -4.7391, -5.1087, -5.3824, -5.3247, -5.3216, -5.3703, -5.3427, -5.4729, -5.4798, -5.2448, -5.3278, -5.6754, -5.7707, -5.8431, -5.9152, -6.0941, -6.2139, -6.2488, -6.3175, -6.3724, -6.4205, -6.4182, -6.4334, -6.4478, -6.4639, -6.4552, -6.5153, -6.4788, -6.522, -6.5322, -6.5845, -6.6908, -6.7004, -6.7289, -6.7329, -6.8186, -6.8456, -6.4549, -6.8449, -3.4506, -4.8312, -5.484, -4.7287, -6.4557, -5.5968, -6.292, -5.7203, -5.1252, -5.9322, -4.9711, -5.7224, -5.2322, -6.0749, -6.3198, -5.2696, -6.2219, -6.2462, -6.302, -6.2599], \"loglift\": [30.0, 29.0, 28.0, 27.0, 26.0, 25.0, 24.0, 23.0, 22.0, 21.0, 20.0, 19.0, 18.0, 17.0, 16.0, 15.0, 14.0, 13.0, 12.0, 11.0, 10.0, 9.0, 8.0, 7.0, 6.0, 5.0, 4.0, 3.0, 2.0, 1.0, 1.1498, 1.1464, 1.1458, 1.1382, 1.1337, 1.1331, 1.1326, 1.1325, 1.1314, 1.1309, 1.1305, 1.1266, 1.1262, 1.1232, 1.1227, 1.1226, 1.1213, 1.1212, 1.1207, 1.1203, 1.1198, 1.1192, 1.1189, 1.1188, 1.1183, 1.1181, 1.1164, 1.1154, 1.1146, 1.1138, 1.1099, 1.1075, 1.1072, 0.9908, 1.0246, 1.0914, 0.9731, 1.0251, 1.019, 1.0793, 0.9738, 0.9379, 1.0573, 0.9946, 0.936, 0.9641, 0.8759, 0.9376, 0.8886, 0.8783, 0.92, 0.8108, 0.9721, 0.55, 0.7696, 0.5761, 0.5352, 0.6421, 0.6441, 0.4946, 0.3746, 0.6465, 0.6881, 0.5644, 0.3521, 0.0811, 0.1778, 0.0581, 0.1091, 0.4586, 0.2106, 0.2002, 0.0122, 0.1992, 0.2549, -0.1713, 0.3353, 0.3006, 1.3907, 1.3902, 1.3898, 1.3893, 1.389, 1.3887, 1.3884, 1.388, 1.3853, 1.3847, 1.3834, 1.3831, 1.383, 1.3826, 1.3824, 1.3824, 1.3821, 1.382, 1.3818, 1.3814, 1.3814, 1.381, 1.3809, 1.3809, 1.3809, 1.3807, 1.3803, 1.3801, 1.3799, 1.3799, 1.3798, 1.3611, 1.3795, 1.3735, 1.3711, 1.3798, 1.3506, 1.3564, 1.3708, 1.3414, 1.3137, 1.3618, 1.3386, 1.3407, 1.2937, 1.3537, 1.2856, 1.2316, 1.2046, 1.222, 1.3156, 1.1997, 1.2513, 1.1679, 1.1455, 1.3207, 0.9714, 0.9312, 1.1914, 1.0033, 1.1173, 0.8387, 1.1179, 0.3649, 1.0246, 0.8902, 0.5638, 1.0693, 0.4031, 0.2399, 0.997, 0.558, -0.2838, 0.314, -0.1586, 0.4662, -0.1243, 0.0984, 0.4561, -0.5097, -0.4381, -0.5983, 1.5086, 1.5056, 1.5053, 1.5051, 1.504, 1.503, 1.4985, 1.498, 1.4966, 1.4911, 1.4908, 1.4907, 1.49, 1.4896, 1.4886, 1.4882, 1.488, 1.488, 1.4872, 1.4869, 1.4864, 1.4858, 1.4854, 1.4835, 1.482, 1.4814, 1.4807, 1.4806, 1.4801, 1.48, 1.4748, 1.4799, 1.4797, 1.4739, 1.4778, 1.4308, 1.4673, 1.4676, 1.3368, 1.4544, 1.4602, 1.4434, 1.3253, 1.3771, 1.4069, 1.3797, 1.3069, 1.417, 1.4191, 1.4119, 1.327, 1.391, 1.2966, 1.2408, 1.2138, 1.1774, 1.2376, 1.3765, 1.1163, 1.161, 0.8895, 1.3353, 0.8319, 0.9189, 0.8845, 0.2776, 0.8498, 1.0032, 0.5808, 0.7201, 0.523, 0.8893, 0.4413, 0.5832, 0.1298, 0.0305, -0.0259, 0.456, 0.0682, 0.3213, 0.2596, 0.344, 0.2055, 0.1359, -0.5027, 0.0879, -0.8722, 0.1205, 0.14, 1.6495, 1.6492, 1.6481, 1.6468, 1.6447, 1.6432, 1.6425, 1.6408, 1.6405, 1.6385, 1.6383, 1.638, 1.6372, 1.6347, 1.6346, 1.633, 1.6328, 1.6321, 1.6312, 1.631, 1.6303, 1.6301, 1.6297, 1.6294, 1.6292, 1.6278, 1.6277, 1.6263, 1.6262, 1.6238, 1.6225, 1.6156, 1.6152, 1.539, 1.5792, 1.5883, 1.5806, 1.5144, 1.5168, 1.6084, 1.4167, 1.4566, 1.554, 1.3526, 1.2882, 1.1597, 1.3674, 1.2489, 1.429, 1.1219, 0.9962, 1.0186, 1.1168, 1.4246, 0.8676, 0.8095, 1.1276, 1.0768, 0.7787, 0.6626, 1.1002, 0.3471, 0.3633, 0.6721, 0.6421, 0.33, -0.0754, 0.1601, 0.5645, 0.8825, 0.5261, 0.0318, -0.2528, -0.3762, 0.1286, 0.4732, 0.3084, 0.228, 0.0408, -0.4512, 0.2225, 0.1722, 3.676, 3.6751, 3.6698, 3.6677, 3.6657, 3.664, 3.6603, 3.6569, 3.6558, 3.6535, 3.6517, 3.6499, 3.6496, 3.6494, 3.6481, 3.6478, 3.6472, 3.6461, 3.646, 3.6435, 3.6435, 3.6431, 3.6382, 3.6377, 3.6364, 3.6362, 3.631, 3.6302, 3.6301, 3.6281, 3.3109, 3.3982, 3.4473, 3.224, 3.5765, 2.9977, 3.3971, 2.6076, 1.7953, 2.8138, 1.1206, 2.3507, 1.4169, 2.5554, 3.2385, -0.3646, 2.7667, 2.5824, 2.7915, -2.0662]}, \"token.table\": {\"Topic\": [3, 4, 1, 4, 5, 2, 3, 3, 3, 4, 4, 4, 1, 1, 2, 3, 4, 5, 1, 2, 3, 4, 3, 5, 1, 2, 1, 2, 2, 1, 2, 3, 4, 5, 4, 1, 3, 1, 2, 3, 4, 5, 4, 1, 3, 1, 2, 2, 3, 4, 5, 1, 2, 1, 2, 3, 2, 5, 5, 3, 4, 1, 4, 1, 2, 1, 2, 3, 5, 1, 2, 1, 2, 5, 1, 2, 1, 2, 3, 4, 5, 1, 1, 2, 4, 1, 2, 3, 4, 5, 3, 3, 3, 4, 5, 1, 2, 3, 4, 2, 4, 5, 1, 3, 5, 5, 1, 2, 3, 4, 5, 3, 1, 2, 3, 4, 5, 1, 2, 2, 1, 2, 1, 2, 2, 3, 2, 3, 5, 1, 2, 3, 4, 5, 1, 2, 3, 4, 1, 2, 3, 4, 5, 3, 4, 5, 3, 1, 2, 2, 1, 2, 3, 1, 2, 3, 2, 1, 2, 2, 2, 2, 1, 2, 3, 4, 5, 1, 2, 3, 4, 1, 2, 3, 4, 1, 2, 3, 4, 5, 1, 2, 5, 4, 5, 1, 2, 3, 4, 5, 1, 2, 5, 3, 4, 3, 3, 5, 3, 4, 5, 1, 2, 5, 1, 2, 4, 1, 2, 3, 3, 4, 1, 2, 3, 4, 2, 1, 2, 3, 4, 3, 4, 2, 5, 1, 2, 3, 4, 5, 1, 2, 5, 2, 5, 5, 3, 1, 2, 3, 4, 5, 4, 4, 1, 2, 3, 5, 1, 2, 3, 4, 5, 1, 2, 3, 4, 5, 1, 2, 1, 2, 3, 4, 5, 1, 2, 3, 4, 3, 4, 5, 1, 2, 1, 2, 3, 4, 1, 2, 3, 4, 5, 1, 2, 3, 4, 1, 2, 4, 1, 2, 3, 4, 5, 1, 1, 2, 3, 4, 5, 1, 2, 3, 4, 5, 4, 1, 2, 3, 4, 5, 1, 2, 3, 4, 1, 1, 2, 3, 4, 5, 3, 2, 4, 4, 3, 1, 1, 2, 3, 4, 1, 5, 1, 2, 2, 1, 2, 1, 2, 3, 5, 1, 2, 3, 4, 2, 5, 1, 4, 1, 1, 5, 5, 1, 2, 3, 4, 5, 2, 4, 1, 2, 1, 2, 3, 4, 5, 1, 2, 3, 4, 1, 2, 1, 2, 5, 4, 2, 5, 1, 2, 3, 4, 5, 5, 3, 1, 2, 3, 4, 5, 1, 2, 3, 4, 3, 4, 5, 1, 2, 3, 4, 5, 1, 2, 3, 4, 1, 2, 3, 4, 1, 2, 3, 4, 5, 1, 2, 3, 4, 5, 5, 1, 2, 3, 4, 5, 3, 4, 1, 4, 1, 2, 1, 2, 3, 4, 5, 5, 2, 3, 1, 2, 3, 4, 5, 1, 3, 1, 1, 2, 4, 1, 2, 3, 4, 5, 1, 3, 3, 1, 2, 3, 4, 5, 1, 2, 3, 4, 5, 1, 2, 3, 4, 5, 1, 1, 2, 1, 2, 3, 4, 5, 3, 4, 3, 4, 1, 2, 1, 2, 3, 4, 1, 2, 3, 4, 4, 1, 2, 1, 2, 3, 1, 2, 3, 4, 5, 5, 1, 1, 2, 3, 4, 5, 4, 4, 1, 2, 3, 4, 5, 2, 3, 3, 1, 1, 1, 3, 4, 5, 1, 1, 1, 2, 5, 1, 2, 3, 4, 5, 4, 4, 1, 2, 4, 3, 4, 1, 2, 1, 2, 1, 2, 3, 5, 1, 2, 3, 4, 5, 1, 3, 1, 2, 3, 4, 1, 2, 3, 4, 3, 4, 1, 2, 3, 1, 2, 3, 4, 5, 5, 1, 1, 2, 3, 4, 5, 1, 3, 4, 3, 4, 5, 1, 2, 3, 5, 3, 2, 1, 2, 3, 4, 1, 2, 3, 4, 5, 1, 1, 3, 4, 5, 1, 2, 3, 4, 5, 1, 2, 3, 4, 5, 4, 5, 4, 1, 1, 2, 1, 2, 1, 2, 5, 1, 2, 3, 4, 5, 3, 2, 1, 2, 3, 4, 5, 3, 4, 5, 1, 2, 1, 2, 3, 4, 5, 1, 2, 3, 4, 5, 3, 4, 5, 5, 3, 4, 1, 2, 3, 4, 5, 1, 2, 3, 4, 5, 1, 2, 1, 2, 3, 4, 4, 2, 3, 5, 1, 2, 5, 1, 2, 3, 4, 3, 2, 1, 2, 3, 4, 5, 1, 2, 3, 4, 5, 1, 3, 1, 2, 3, 4, 1, 2, 3, 4, 2, 3, 4, 3, 4, 4, 1, 2, 3, 4, 5, 5, 2, 5, 1, 2, 3, 4, 5, 3, 3, 4, 3, 4, 1, 3, 1, 1, 2, 3, 4, 5, 5, 3, 4, 5, 2, 1, 2, 1, 2, 3, 3, 4, 5, 1, 2, 3, 4, 5, 5, 5, 2, 1, 2, 3, 4, 5, 3, 4, 5, 3, 1, 5, 1, 2, 1, 2, 3, 4, 5, 1, 2, 1, 2, 1, 2, 3, 4, 5, 4, 5, 1, 2, 3, 4, 5, 4, 5, 1, 2, 3, 4, 1, 2, 3, 4, 5, 3, 5, 1, 2, 3, 4, 5, 2], \"Freq\": [0.960215206838471, 0.029097430510256695, 0.9740950862434818, 0.09275406378764973, 0.8811636059826725, 0.057241440312445865, 0.9301734050772453, 0.9882174598598324, 0.12768954882181144, 0.8720924504638612, 0.9591859593169595, 0.9940109441586634, 0.9516925825773375, 0.32835037930582844, 0.11717067477303422, 0.3419748763724603, 0.20777358026613627, 0.0054497988266527546, 0.8270683299504582, 0.11970725828230316, 0.013058973630796708, 0.039176920892390124, 0.9639066685990088, 0.9394834820535082, 0.011145686100793336, 0.9808203768698135, 0.982321641833257, 0.013456460847030918, 0.9985236471175847, 0.3884228378668825, 0.1040268507462061, 0.34731545329781716, 0.15520134990361395, 0.005033557294171263, 0.9834527645916225, 0.03829876464237616, 0.9383197337382159, 0.8347741778643171, 0.08151324325028038, 0.07660280690990204, 0.0029462618042270013, 0.0029462618042270013, 0.9866389713773145, 0.978042096514251, 0.020721230858352774, 0.05152535225191791, 0.9461928322624925, 0.01961413000164455, 0.7126467233930852, 0.0065380433338815165, 0.26152173335526063, 0.24027983624047916, 0.7583143455662829, 0.8790667826811588, 0.11133738079326586, 0.009970511712829777, 0.9826889520446008, 0.9537938221910113, 0.9584900053612948, 0.9785697793585972, 0.03156676707608378, 0.9626484785816963, 0.9671003293707401, 0.04105117450180766, 0.9564923658921185, 0.9654413655550919, 0.0036158852642512807, 0.0036158852642512807, 0.025311196849758962, 0.007159018093448089, 0.9879444968958363, 0.17555034010243165, 0.8235166360902688, 0.0014272385374181434, 0.07011342447814566, 0.9264988234612105, 0.07687664177654187, 0.08755395313439492, 0.23917177441590803, 0.576574813324064, 0.021354622715706074, 0.976533049379709, 0.012661752763107822, 0.9749549627593023, 0.008441168508738548, 0.04067187474672847, 0.03177490214588161, 0.5325473599649758, 0.3901957983514262, 0.006354980429176323, 0.9594852290954529, 0.9697330677580188, 0.1743704867588239, 0.13914412579744534, 0.6851527206988132, 0.06723279659151932, 0.008404099573939915, 0.8025915093112619, 0.1176573940351588, 0.9816352658170694, 0.5879641370337605, 0.39197609135584033, 0.0898325713314072, 0.8702530347730071, 0.033687214249277696, 0.9705449351422768, 0.09476073110496751, 0.04632746854020634, 0.7412394966433015, 0.09897231915407718, 0.018952146220993504, 0.9800621746235602, 0.327031459103677, 0.08147882769477277, 0.45204007145730096, 0.12947320565196768, 0.010045334921273354, 0.03252506264898594, 0.9673194558198411, 0.9833182159937859, 0.42609565056797727, 0.5735056777007886, 0.8315822395374686, 0.16513689863155404, 0.9952948522730507, 0.003190047603439265, 0.9860980688264454, 0.9744324331767353, 0.94527857346738, 0.01618517790917422, 0.6911070967217392, 0.18936658153733837, 0.09711106745504533, 0.00809258895458711, 0.0056071959004384475, 0.061679154904822925, 0.056071959004384476, 0.8747225604683978, 0.44842898474063225, 0.21892641472007282, 0.13299515290361913, 0.19803850800161177, 0.0015864232950729914, 0.25448123172174414, 0.7426697170654982, 0.002596747262466777, 0.9706675666497415, 0.3271819074475254, 0.6726421337468679, 0.9932823653217847, 0.02799516971007191, 0.965833354997481, 0.9752473643311855, 0.001802590218539811, 0.9932272104154358, 0.003605180437079622, 0.9898510163136058, 0.04957131552520371, 0.9468121265313909, 0.9889934400536025, 0.9883736299010641, 0.9819691389086254, 0.19803695197704582, 0.01260235148944837, 0.2565478696066275, 0.5193969149579792, 0.013502519452980396, 0.10713855790319034, 0.28647918743679157, 0.013974594509111782, 0.5915911675523988, 0.10171226445737415, 0.02034245289147483, 0.8747254743334176, 0.010171226445737414, 0.20346525211992209, 0.11037657467943486, 0.3032031208061584, 0.37567930538482347, 0.007314110370323997, 0.038218963833893456, 0.20638240470302466, 0.7490916911443117, 0.2005108128270885, 0.7866193426293472, 0.4413328823926577, 0.2874803391035643, 0.0845105519475302, 0.18563428932064327, 0.0007223124098079504, 0.3701244874638003, 0.6289643294763466, 0.9368655432593502, 0.9655810959257602, 0.017242519570102862, 0.9873102258455877, 0.9918626258932729, 0.9835924125987702, 0.873560126470586, 0.09852181877487813, 0.026272485006634167, 0.2727378929157948, 0.7220686661367806, 0.003924286229004243, 0.9444275593569171, 0.03497879849470063, 0.017489399247350317, 0.7668298000107984, 0.23093715984881186, 0.0014803664092872554, 0.993155405400934, 0.006665472519469356, 0.002569099310345531, 0.12074766758623996, 0.8118353820691878, 0.06422748275863828, 0.9973984923300351, 0.7575961954329408, 0.1825706201517713, 0.05750255752811695, 0.0028751278764058475, 0.8998430467582891, 0.08887338733415201, 0.04889135087847993, 0.9289356666911187, 0.6008860375206745, 0.3950941124861515, 0.002638358013263115, 0.0006595895033157787, 0.0006595895033157787, 0.05146218908094241, 0.9473721171718944, 0.9728952547550158, 0.9886514963735109, 0.9797597283287258, 0.9940872060930268, 0.985885511237225, 0.3481010455120896, 0.08542356945081953, 0.25271139295867445, 0.30752485002295027, 0.005694904630054635, 0.990121087310096, 0.9892998055725158, 0.02417001101550613, 0.012085005507753065, 0.9607579378663686, 0.006042502753876532, 0.2597858466578897, 0.16649616606253778, 0.2481246365834707, 0.3245703470713285, 0.0012956900082687765, 0.08100720214928261, 0.008679343087423137, 0.11283146013650079, 0.7898202209555055, 0.005786228724948758, 0.1497698773813653, 0.8500452500023435, 0.111965684908614, 0.037321894969538, 0.7576344678816214, 0.0858403584299374, 0.0074643789939076, 0.8493549753743991, 0.14883268230627497, 0.0010292716618691216, 0.00041170866474764863, 0.05774711820481831, 0.2887355910240915, 0.6352183002530014, 0.06569015802280172, 0.930610571989691, 0.384804625742093, 0.6039143418162026, 0.0010900980899209434, 0.010900980899209434, 0.018139341800099705, 0.14511473440079764, 0.3990655196021935, 0.03627868360019941, 0.3990655196021935, 0.49859013972087424, 0.15695004398241283, 0.08760002454832344, 0.2569600720084154, 0.17202533329015166, 0.826764177570244, 0.9869313843661692, 0.2658294734532915, 0.27350131972899977, 0.2355256806642438, 0.2178804342301148, 0.0072882539619228545, 0.9728653385881355, 0.3516217805830788, 0.12859310832752596, 0.25048865892965994, 0.2665627974706007, 0.002679023090156791, 0.4587493428384854, 0.3571428438142656, 0.051523295568187064, 0.13168842314477625, 0.0009600614081028644, 0.9696788965290144, 0.5386431660133485, 0.15988335370266582, 0.07608906591873855, 0.22513695137348275, 0.0002407881832871473, 0.10316328511441013, 0.8167093404890802, 0.04585034893973783, 0.03438776170480337, 0.9849994744235367, 0.09158402355761315, 0.05037121295668723, 0.267120068709705, 0.5891905515539779, 0.0015264003926268857, 0.9937111909804957, 0.9953731263125544, 0.9977296529329814, 0.9863043725762008, 0.9741926550301238, 0.937874604081286, 0.08538686860512143, 0.045204812790946645, 0.28294864302481415, 0.5859883139567157, 0.9911008305364767, 0.963557096995859, 0.0186968459443249, 0.9722359891048948, 0.9875637608702402, 0.9623721484971178, 0.03376744380691642, 0.014454788792479347, 0.006194909482491149, 0.8280529008263169, 0.15074279740728463, 0.004207839851834463, 0.9046855681444096, 0.08836463688852372, 0.0021039199259172314, 0.9881739260295263, 0.9445807422237643, 0.989012492312622, 0.9758191306659392, 0.976959246163558, 0.9570137734282986, 0.9360926404792022, 0.9498631947386433, 0.02275596365455537, 0.0041374479371918856, 0.07654278683804988, 0.8936887544334472, 0.0020687239685959428, 0.0182755420593257, 0.9686037291442621, 0.034722931266440694, 0.9635613426437293, 0.2517817026857882, 0.12465054738877693, 0.2852699094469522, 0.33736267551987387, 0.0012403039541171834, 0.17923038052333684, 0.011948692034889121, 0.011948692034889121, 0.8005623663375712, 0.9516073502855211, 0.04478152236637747, 0.1912842435927647, 0.17389476690251335, 0.626021160849048, 0.9801490540766216, 0.9904003834132019, 0.9920126910259242, 0.2655351933106199, 0.09945138326240446, 0.3938274777191217, 0.2356997783318986, 0.0039780553304961785, 0.9731929804913468, 0.9681427389898088, 0.3341898357063422, 0.31518635195374756, 0.2266844133345213, 0.122165252695251, 0.00162887003593668, 0.33104206816689874, 0.4334559541793162, 0.13991756258034502, 0.09592286506796849, 0.9115172661112595, 0.03646069064445038, 0.04861425419260051, 0.2953521461823387, 0.1484629793420992, 0.18151304188115308, 0.37194435460617786, 0.002623020836432848, 0.3893438656193388, 0.3395918358977586, 0.07166118042466142, 0.19992100016561595, 0.7094630914231083, 0.2832457209103664, 0.001348789147192221, 0.005395156588768884, 0.27838540512694465, 0.24078214778953602, 0.24017564363893265, 0.2395691394883293, 0.0006065041506033653, 0.057101875065636215, 0.008157410723662316, 0.8320558938135564, 0.0978889286839478, 0.008157410723662316, 0.9756407185722926, 0.26513252436446366, 0.0021732174128234727, 0.5346114835545743, 0.18037704526434825, 0.017385739302587782, 0.9638925346137083, 0.9861634089520853, 0.9649738471263766, 0.994315371194662, 0.21954455728042074, 0.7799205251640121, 0.6019410399773296, 0.3915385214044391, 0.0007909869119281599, 0.0007909869119281599, 0.005536908383497119, 0.989223692426451, 0.9866280909376777, 0.007956678152723207, 0.17181637274606806, 0.012420460680438655, 0.6707048767436874, 0.14076522104497144, 0.002070076780073109, 0.0225736035606506, 0.9480913495473252, 0.980683620531223, 0.9291970756254281, 0.06637121968753057, 0.9982531105955446, 0.18892086124874596, 0.08181612101323645, 0.31015747693199636, 0.418006000085808, 0.001487565836604299, 0.02435666433672183, 0.9742665734688732, 0.9554510069357103, 0.2518441509200763, 0.1200964990152677, 0.17028608069329004, 0.45618744775202436, 0.0008962425299646843, 0.38502069274099704, 0.2686460171907107, 0.18643107227458802, 0.15690316952302286, 0.002894892426624038, 0.6277032632206567, 0.08118559555850764, 0.264348219684409, 0.020791433008886105, 0.005940409431110316, 0.9497957241669579, 0.7905172993316804, 0.2083790370623258, 0.3420855954070847, 0.18671496558159206, 0.29034042043042063, 0.1777980424785638, 0.003107412596509853, 0.9485055303630553, 0.041239370885350235, 0.9181344141565979, 0.07651120117971649, 0.017977903464967793, 0.9797957388407448, 0.5610648801403334, 0.37090826544635974, 0.053490732417779296, 0.014401351035555964, 0.2685159242264815, 0.050959226495536636, 0.11759821498969993, 0.5625114617007313, 0.9834898446905532, 0.00697456045810159, 0.9903875850504258, 0.14326737888791036, 0.023107641756114575, 0.8272535748689018, 0.18884487792438148, 0.04458837395436785, 0.760625202750981, 0.002622845526727521, 0.002622845526727521, 0.9596824886268938, 0.9887774150333358, 0.26474864154715594, 0.04432443320020257, 0.5510605208673833, 0.13417125725466725, 0.0047918306162381165, 0.9715225532115819, 0.99279249169679, 0.37110244951286914, 0.0694046565882847, 0.39305698373977555, 0.16288847974801507, 0.0035410539075655455, 0.9963817044683402, 0.9789317727315883, 0.9769189606126196, 0.960013417410909, 0.993503349574832, 0.010797364480663494, 0.5992537286768239, 0.37790775682322225, 0.010797364480663494, 0.9489823254836856, 0.9691273878769161, 0.6808456234740479, 0.31487624820352994, 0.0035646367721154336, 0.5467055426412947, 0.21153447674636666, 0.09195471317924249, 0.14894345348990748, 0.0009659108527231354, 0.9771651159601816, 0.974860977075175, 0.9866232393653446, 0.08596555707970814, 0.9087787462712004, 0.9735991040563832, 0.022043753299389807, 0.10203662887930195, 0.895654853496095, 0.03660924588598544, 0.9631047763851556, 0.3459603477023267, 0.12813346211197285, 0.10250676968957828, 0.4228404249695104, 0.5546347848192273, 0.09292310531002762, 0.12370388394397426, 0.22766160800956767, 0.0011615388163753453, 0.020674621115251618, 0.9510325713015745, 0.018687821157191833, 0.07475128462876733, 0.08409519520736325, 0.8222641309164407, 0.0029092535566251315, 0.0029092535566251315, 0.014546267783125656, 0.9775091950260442, 0.023699240027311066, 0.9716688411197537, 0.9616454613638971, 0.018855793360076412, 0.018855793360076412, 0.003655579703037483, 0.03290021732733735, 0.2010568836670616, 0.7530494188257215, 0.01096673910911245, 0.9611208335747197, 0.9724183529851375, 0.3076297115223735, 0.14722279051427875, 0.11353001258563784, 0.4306815961313229, 0.0007324516941008892, 0.011606973362992762, 0.9053439223134354, 0.08124881354094933, 0.016445623577680667, 0.9757736656090529, 0.0054818745258935556, 0.8348568325502315, 0.14835225729489726, 0.006006164262951306, 0.01081109567331235, 0.9685779166320293, 0.9906326914001677, 0.8051293537710924, 0.16826298854092492, 0.005427838340029837, 0.019902073913442734, 0.06220074972928753, 0.023437963666108345, 0.8374564709928712, 0.0009014601410041671, 0.07662411198535421, 0.9424563303238176, 0.13665209650925586, 0.7010846690474867, 0.15744698076066438, 0.0029706977502012145, 0.2779300252614399, 0.13933757298629829, 0.3710701141560243, 0.2116142819684958, 0.0007451207111566754, 0.32313912401139405, 0.6756545320238239, 0.1388637033362843, 0.7984662941836348, 0.06248866650132794, 0.23033122555760985, 0.756802598260718, 0.994738807381596, 0.9533744541455536, 0.15743566422560348, 0.8414061610279474, 0.9106506437238622, 0.08278642215671475, 0.07088873131371483, 0.9226611435050696, 0.006645818560660765, 0.19722592855264412, 0.08928471089883212, 0.5050582900098116, 0.20189005524138906, 0.005996734314100666, 0.9618699943896709, 0.9923341133698431, 0.7592658594583817, 0.10941385747653534, 0.12433392895060835, 0.0049733571580243335, 0.0033155714386828893, 0.9370787928152409, 0.01673354987170073, 0.03346709974340146, 0.8037408817597338, 0.19455149936695523, 0.5172652940605684, 0.09987622433190763, 0.08997114423287546, 0.2756913960897285, 0.017333890173306284, 0.01126218365795106, 0.13702323450507123, 0.17831790791755844, 0.6682228970384295, 0.0018770306096585101, 0.8956954363648834, 0.09047428650150337, 0.009047428650150336, 0.9743589132939003, 0.057877348245658634, 0.9356837966381479, 0.4067222563283106, 0.08833499004630495, 0.27008899834301875, 0.2332297938632656, 0.0019065105765389558, 0.16212712690086323, 0.0047221493272096085, 0.713044548408651, 0.015740497757365364, 0.10388728519861139, 0.24114375790630513, 0.7578803819912446, 0.005091298139577088, 0.016546718953625535, 0.5142211120972858, 0.46330813070151494, 0.9836309032073824, 0.9887645186245064, 0.6541014669424209, 0.33400925971527873, 0.996487040349608, 0.001873095940506782, 0.001873095940506782, 0.08972398726335618, 0.7977278140323849, 0.030995559236432133, 0.08319860637147572, 0.97772205368768, 0.9797033177035257, 0.8059080610896597, 0.15583348092008295, 0.03135111450463207, 0.000922091603077414, 0.006454641221541897, 0.30690349363010866, 0.08427555889156302, 0.2387807501927619, 0.3644917922060101, 0.00491607426867451, 0.9518392137521458, 0.03103823523104823, 0.3426346082590029, 0.6552135491268651, 0.0017174667080651774, 0.9859248376466184, 0.07711916322561468, 0.8675905862881652, 0.0358053257833211, 0.01927979080640367, 0.03173508798978098, 0.039668859987226225, 0.9282513237010936, 0.05463546435499128, 0.93972998690585, 0.9895470642008104, 0.15291742032227576, 0.06143407279322869, 0.5348770902975671, 0.24573629117291476, 0.005342093286367712, 0.9666516975555974, 0.9904355838790273, 0.008688031437535328, 0.16242177526812368, 0.04906491127891236, 0.087978461603567, 0.6953682253666545, 0.005075680477128865, 0.9863955026983504, 0.9692004795600792, 0.9855516286104512, 0.03917941258891862, 0.9598956084285062, 0.009952821378612009, 0.9853293164825888, 0.9556642905392608, 0.37682631385663834, 0.13641640935026805, 0.21423140341626604, 0.2713918002919065, 0.001441018408629592, 0.9540294188933255, 0.008435441538962215, 0.6495289985000906, 0.3374176615584886, 0.9946689711283822, 0.009929761989492834, 0.9830464369597905, 0.037718340406377844, 0.06600709571116123, 0.8863809995498793, 0.9762644633599432, 0.9911299703295816, 0.9659814539166033, 0.319394627915746, 0.43564783631329085, 0.12027581076424189, 0.12309163242092983, 0.0016090409466788212, 0.9798632517996486, 0.9865708181374443, 0.9813161526318305, 0.3853175555850075, 0.2301420502065555, 0.14259370764506402, 0.2406268816510455, 0.001048483144449, 0.08811003198153716, 0.3964951439169172, 0.5066326838938386, 0.9850750636110944, 0.9798128510239245, 0.9636020106890874, 0.010507849543260322, 0.9877378570664702, 0.5992306633025034, 0.0737700715670085, 0.18261116076423414, 0.1402840705208686, 0.004232709024336553, 0.8531351807202997, 0.14588928740941928, 0.874893104250787, 0.12561437516950846, 0.3248450247377257, 0.1607128017123485, 0.2518973700597803, 0.26101582689452346, 0.0011398071043428972, 0.970970038090054, 0.015660807065968615, 0.011414240924457022, 0.07989968647119916, 0.09131392739565618, 0.49081235975165194, 0.31959874588479664, 0.9845464492484782, 0.9151969181695034, 0.8781796514723796, 0.11580391008426985, 0.0024125814600889552, 0.0024125814600889552, 0.1303510124326667, 0.06237225863713622, 0.19272327106980292, 0.6118087841597744, 0.0028032475791971334, 0.9797324808578962, 0.939127715506355, 0.2015135200365776, 0.03883333459038214, 0.22670271004114978, 0.5310720892630638, 0.0010495495835238415, 0.9779236340377059], \"Term\": [\"agent\", \"agent\", \"ahi\", \"airline\", \"airline\", \"animal\", \"animal\", \"apartment\", \"appointment\", \"appointment\", \"appt\", \"artist\", \"asia\", \"ask\", \"ask\", \"ask\", \"ask\", \"ask\", \"atmosphere\", \"atmosphere\", \"atmosphere\", \"atmosphere\", \"attorney\", \"avec\", \"avocado\", \"avocado\", \"ayce\", \"ayce\", \"bacon\", \"bad\", \"bad\", \"bad\", \"bad\", \"bad\", \"balloon\", \"bank\", \"bank\", \"bar\", \"bar\", \"bar\", \"bar\", \"bar\", \"barber\", \"bartender\", \"bartender\", \"bean\", \"bean\", \"bed\", \"bed\", \"bed\", \"bed\", \"beef\", \"beef\", \"beer\", \"beer\", \"beer\", \"benedict\", \"blind\", \"bon\", \"bouncer\", \"bouncer\", \"bowling\", \"brake\", \"bread\", \"bread\", \"buffet\", \"buffet\", \"buffet\", \"buffet\", \"bun\", \"bun\", \"burger\", \"burger\", \"burger\", \"butter\", \"butter\", \"buy\", \"buy\", \"buy\", \"buy\", \"buy\", \"byob\", \"cake\", \"cake\", \"cake\", \"call\", \"call\", \"call\", \"call\", \"call\", \"camera\", \"canal\", \"car\", \"car\", \"car\", \"card\", \"card\", \"card\", \"card\", \"carne\", \"carpet\", \"carpet\", \"casino\", \"casino\", \"casino\", \"ce\", \"charge\", \"charge\", \"charge\", \"charge\", \"charge\", \"chase\", \"check\", \"check\", \"check\", \"check\", \"check\", \"cheese\", \"cheese\", \"chewy\", \"chicken\", \"chicken\", \"chinese\", \"chinese\", \"chocolate\", \"chocolate\", \"cinnamon\", \"climb\", \"closet\", \"coffee\", \"coffee\", \"coffee\", \"coffee\", \"coffee\", \"color\", \"color\", \"color\", \"color\", \"come\", \"come\", \"come\", \"come\", \"come\", \"company\", \"company\", \"company\", \"construction\", \"cook\", \"cook\", \"cookie\", \"corn\", \"corn\", \"couch\", \"cream\", \"cream\", \"cream\", \"creamy\", \"crispy\", \"crispy\", \"croissant\", \"crunchy\", \"cupcake\", \"customer\", \"customer\", \"customer\", \"customer\", \"customer\", \"cut\", \"cut\", \"cut\", \"cut\", \"dance\", \"dance\", \"dance\", \"dance\", \"day\", \"day\", \"day\", \"day\", \"day\", \"de\", \"de\", \"de\", \"dealership\", \"dealership\", \"definitely\", \"definitely\", \"definitely\", \"definitely\", \"definitely\", \"delicious\", \"delicious\", \"dent\", \"dental\", \"dental\", \"dentist\", \"deposit\", \"des\", \"desk\", \"desk\", \"desk\", \"dessert\", \"dessert\", \"dessert\", \"dim\", \"dim\", \"dim\", \"dinner\", \"dinner\", \"dinner\", \"doctor\", \"doctor\", \"dog\", \"dog\", \"dog\", \"dog\", \"donut\", \"drink\", \"drink\", \"drink\", \"drink\", \"driver\", \"driver\", \"du\", \"du\", \"eat\", \"eat\", \"eat\", \"eat\", \"eat\", \"egg\", \"egg\", \"en\", \"enchilada\", \"est\", \"et\", \"exhibit\", \"experience\", \"experience\", \"experience\", \"experience\", \"experience\", \"eyebrow\", \"facial\", \"fee\", \"fee\", \"fee\", \"fee\", \"find\", \"find\", \"find\", \"find\", \"find\", \"fix\", \"fix\", \"fix\", \"fix\", \"fix\", \"flavor\", \"flavor\", \"floor\", \"floor\", \"floor\", \"floor\", \"floor\", \"food\", \"food\", \"food\", \"food\", \"ford\", \"ford\", \"ford\", \"french\", \"french\", \"fresh\", \"fresh\", \"fresh\", \"fresh\", \"fridge\", \"fridge\", \"fridge\", \"fridge\", \"fridge\", \"friendly\", \"friendly\", \"friendly\", \"friendly\", \"fry\", \"fry\", \"gel\", \"get\", \"get\", \"get\", \"get\", \"get\", \"gnocchi\", \"go\", \"go\", \"go\", \"go\", \"go\", \"good\", \"good\", \"good\", \"good\", \"good\", \"grateful\", \"great\", \"great\", \"great\", \"great\", \"great\", \"green\", \"green\", \"green\", \"green\", \"grub\", \"guy\", \"guy\", \"guy\", \"guy\", \"guy\", \"gym\", \"gyro\", \"hair\", \"haircut\", \"hall\", \"hangover\", \"help\", \"help\", \"help\", \"help\", \"hibachi\", \"hollandaise\", \"homemade\", \"homemade\", \"honey\", \"hostess\", \"hostess\", \"hotel\", \"hotel\", \"hotel\", \"hotel\", \"ice\", \"ice\", \"ice\", \"ice\", \"iced\", \"il\", \"indian\", \"install\", \"ipa\", \"italy\", \"jai\", \"je\", \"job\", \"job\", \"job\", \"job\", \"job\", \"john\", \"john\", \"juicy\", \"juicy\", \"know\", \"know\", \"know\", \"know\", \"know\", \"knowledgeable\", \"knowledgeable\", \"knowledgeable\", \"knowledgeable\", \"korean\", \"korean\", \"la\", \"la\", \"la\", \"lash\", \"latte\", \"le\", \"leave\", \"leave\", \"leave\", \"leave\", \"leave\", \"les\", \"library\", \"like\", \"like\", \"like\", \"like\", \"like\", \"little\", \"little\", \"little\", \"little\", \"lobby\", \"lobby\", \"lobby\", \"look\", \"look\", \"look\", \"look\", \"look\", \"love\", \"love\", \"love\", \"love\", \"lunch\", \"lunch\", \"lunch\", \"lunch\", \"m\", \"m\", \"m\", \"m\", \"m\", \"machine\", \"machine\", \"machine\", \"machine\", \"machine\", \"mais\", \"manager\", \"manager\", \"manager\", \"manager\", \"manager\", \"mandalay\", \"manicure\", \"masala\", \"massage\", \"meat\", \"meat\", \"menu\", \"menu\", \"menu\", \"menu\", \"menu\", \"michael\", \"milk\", \"milk\", \"money\", \"money\", \"money\", \"money\", \"money\", \"museum\", \"museum\", \"naan\", \"nachos\", \"nachos\", \"nail\", \"need\", \"need\", \"need\", \"need\", \"need\", \"neighbor\", \"neighbor\", \"nevada\", \"new\", \"new\", \"new\", \"new\", \"new\", \"nice\", \"nice\", \"nice\", \"nice\", \"nice\", \"night\", \"night\", \"night\", \"night\", \"night\", \"noir\", \"noodle\", \"noodle\", \"not\", \"not\", \"not\", \"not\", \"not\", \"nurse\", \"nurse\", \"office\", \"office\", \"onion\", \"onion\", \"order\", \"order\", \"order\", \"order\", \"owner\", \"owner\", \"owner\", \"owner\", \"paint\", \"pancake\", \"pancake\", \"park\", \"park\", \"park\", \"parking\", \"parking\", \"parking\", \"parking\", \"parking\", \"pas\", \"pastor\", \"pay\", \"pay\", \"pay\", \"pay\", \"pay\", \"pedi\", \"pedicure\", \"people\", \"people\", \"people\", \"people\", \"people\", \"pepper\", \"performance\", \"pest\", \"philly\", \"pho\", \"phone\", \"phone\", \"phone\", \"phone\", \"pinot\", \"pistachio\", \"pizza\", \"pizza\", \"pizza\", \"place\", \"place\", \"place\", \"place\", \"place\", \"plumber\", \"plumbing\", \"poke\", \"polish\", \"polish\", \"pool\", \"pool\", \"pork\", \"pork\", \"potato\", \"potato\", \"pour\", \"pour\", \"pour\", \"pour\", \"price\", \"price\", \"price\", \"price\", \"price\", \"print\", \"print\", \"product\", \"product\", \"product\", \"product\", \"professional\", \"professional\", \"professional\", \"professional\", \"project\", \"project\", \"pub\", \"pub\", \"pub\", \"purchase\", \"purchase\", \"purchase\", \"purchase\", \"purchase\", \"que\", \"quesadilla\", \"recommend\", \"recommend\", \"recommend\", \"recommend\", \"recommend\", \"refund\", \"refund\", \"refund\", \"repair\", \"repair\", \"repair\", \"restaurant\", \"restaurant\", \"restaurant\", \"restaurant\", \"river\", \"roasted\", \"roll\", \"roll\", \"roll\", \"roll\", \"room\", \"room\", \"room\", \"room\", \"room\", \"roti\", \"rude\", \"rude\", \"rude\", \"rude\", \"s\", \"s\", \"s\", \"s\", \"s\", \"salad\", \"salad\", \"sale\", \"sale\", \"sale\", \"salesman\", \"salesman\", \"salon\", \"samosa\", \"sandwich\", \"sandwich\", \"sashimi\", \"sashimi\", \"sauce\", \"sauce\", \"sauce\", \"say\", \"say\", \"say\", \"say\", \"say\", \"scorpion\", \"seasoning\", \"seat\", \"seat\", \"seat\", \"seat\", \"seat\", \"security\", \"security\", \"security\", \"server\", \"server\", \"service\", \"service\", \"service\", \"service\", \"service\", \"shop\", \"shop\", \"shop\", \"shop\", \"shop\", \"situation\", \"situation\", \"situation\", \"sont\", \"spa\", \"spa\", \"staff\", \"staff\", \"staff\", \"staff\", \"staff\", \"stay\", \"stay\", \"stay\", \"stay\", \"stay\", \"steak\", \"steak\", \"store\", \"store\", \"store\", \"store\", \"stylist\", \"sugar\", \"suite\", \"suite\", \"sushi\", \"sushi\", \"sushi\", \"sweet\", \"sweet\", \"sweet\", \"sweet\", \"swim\", \"syrup\", \"table\", \"table\", \"table\", \"table\", \"table\", \"take\", \"take\", \"take\", \"take\", \"take\", \"tap\", \"tap\", \"taste\", \"taste\", \"taste\", \"tattoo\", \"tea\", \"tea\", \"tea\", \"tea\", \"team\", \"team\", \"team\", \"tech\", \"tech\", \"technician\", \"tell\", \"tell\", \"tell\", \"tell\", \"tell\", \"tenant\", \"texture\", \"texture\", \"thank\", \"thank\", \"thank\", \"thank\", \"thank\", \"theater\", \"theatre\", \"therapist\", \"thorough\", \"thorough\", \"ticket\", \"ticket\", \"tikka\", \"time\", \"time\", \"time\", \"time\", \"time\", \"tint\", \"tire\", \"tire\", \"tire\", \"toast\", \"tomato\", \"tomato\", \"tour\", \"tour\", \"tour\", \"trail\", \"trim\", \"trs\", \"try\", \"try\", \"try\", \"try\", \"try\", \"un\", \"une\", \"vanilla\", \"ve\", \"ve\", \"ve\", \"ve\", \"ve\", \"vehicle\", \"vehicle\", \"vehicle\", \"vet\", \"vietnamese\", \"vous\", \"waffle\", \"waffle\", \"wait\", \"wait\", \"wait\", \"wait\", \"wait\", \"waiter\", \"waiter\", \"waitress\", \"waitress\", \"want\", \"want\", \"want\", \"want\", \"want\", \"warranty\", \"warranty\", \"wash\", \"wash\", \"wash\", \"wash\", \"wash\", \"wax\", \"windshield\", \"wine\", \"wine\", \"wine\", \"wine\", \"work\", \"work\", \"work\", \"work\", \"work\", \"xray\", \"y\", \"year\", \"year\", \"year\", \"year\", \"year\", \"yuk\"]}, \"R\": 30, \"lambda.step\": 0.01, \"plot.opts\": {\"xlab\": \"PC1\", \"ylab\": \"PC2\"}, \"topic.order\": [1, 4, 5, 2, 3]};\n",
              "\n",
              "function LDAvis_load_lib(url, callback){\n",
              "  var s = document.createElement('script');\n",
              "  s.src = url;\n",
              "  s.async = true;\n",
              "  s.onreadystatechange = s.onload = callback;\n",
              "  s.onerror = function(){console.warn(\"failed to load library \" + url);};\n",
              "  document.getElementsByTagName(\"head\")[0].appendChild(s);\n",
              "}\n",
              "\n",
              "if(typeof(LDAvis) !== \"undefined\"){\n",
              "   // already loaded: just create the visualization\n",
              "   !function(LDAvis){\n",
              "       new LDAvis(\"#\" + \"ldavis_el1761349830715382406236142058\", ldavis_el1761349830715382406236142058_data);\n",
              "   }(LDAvis);\n",
              "}else if(typeof define === \"function\" && define.amd){\n",
              "   // require.js is available: use it to load d3/LDAvis\n",
              "   require.config({paths: {d3: \"https://d3js.org/d3.v5\"}});\n",
              "   require([\"d3\"], function(d3){\n",
              "      window.d3 = d3;\n",
              "      LDAvis_load_lib(\"https://cdn.jsdelivr.net/gh/bmabey/pyLDAvis@3.3.1/pyLDAvis/js/ldavis.v3.0.0.js\", function(){\n",
              "        new LDAvis(\"#\" + \"ldavis_el1761349830715382406236142058\", ldavis_el1761349830715382406236142058_data);\n",
              "      });\n",
              "    });\n",
              "}else{\n",
              "    // require.js not available: dynamically load d3 & LDAvis\n",
              "    LDAvis_load_lib(\"https://d3js.org/d3.v5.js\", function(){\n",
              "         LDAvis_load_lib(\"https://cdn.jsdelivr.net/gh/bmabey/pyLDAvis@3.3.1/pyLDAvis/js/ldavis.v3.0.0.js\", function(){\n",
              "                 new LDAvis(\"#\" + \"ldavis_el1761349830715382406236142058\", ldavis_el1761349830715382406236142058_data);\n",
              "            })\n",
              "         });\n",
              "}\n",
              "</script>"
            ]
          },
          "metadata": {},
          "execution_count": 74
        }
      ],
      "source": [
        "# Cell for pyLDAvis visualization\n",
        "\n",
        "pyLDAvis.enable_notebook()\n",
        "vis = pyLDAvis.gensim_models.prepare(topic_model=lda, corpus=corpus, dictionary=id2word)\n",
        "vis\n",
        "#raise NotImplementedError()\n"
      ]
    },
    {
      "cell_type": "code",
      "execution_count": null,
      "metadata": {
        "deletable": false,
        "nbgrader": {
          "cell_type": "code",
          "checksum": "2cb1397c6a59aa5751d77bad34994f29",
          "grade": false,
          "grade_id": "cell-9b043e992fbd218c",
          "locked": false,
          "schema_version": 3,
          "solution": true,
          "task": false
        },
        "id": "uw46aKUpPybf",
        "colab": {
          "base_uri": "https://localhost:8080/",
          "height": 430
        },
        "outputId": "2fcf0374-b080-4dbc-eeb3-507ba4e82d00"
      },
      "outputs": [
        {
          "output_type": "display_data",
          "data": {
            "text/plain": [
              "<Figure size 640x480 with 1 Axes>"
            ],
            "image/png": "[encoded data removed]"
          },
          "metadata": {}
        }
      ],
      "source": [
        "# Cell for matplotlib visualzation\n",
        "import matplotlib.pyplot as plt\n",
        "import numpy as np\n",
        "\n",
        "bin_edges = [0.5, 1.5, 2.5, 3.5, 4.5, 5.5]\n",
        "df['stars'].hist(bins=bin_edges);\n",
        "\n",
        "\n",
        "#raise NotImplementedError()"
      ]
    },
    {
      "cell_type": "code",
      "source": [
        "# COMPLETE THE CODE IN THIS CELL\n",
        "top_n = 20\n",
        "# sum the term counts in each column of the dtm_vect data frame and then sort in descending order\n",
        "visual_plot = dtm_vect.sum().sort_values(ascending=False)\n",
        "\n",
        "plt.title(\"Top {} Most Common Words in Yelp Reviews\".format(top_n), fontsize=14)\n",
        "visual_plot = visual_plot[:top_n].plot(kind=\"bar\", figsize=(20,8), grid=True, fontsize=14);\n",
        "\n"
      ],
      "metadata": {
        "colab": {
          "base_uri": "https://localhost:8080/",
          "height": 716
        },
        "id": "5sIg3AnkQZk4",
        "outputId": "1a68fdaf-588a-43ef-8296-1649e9a63d8c"
      },
      "execution_count": null,
      "outputs": [
        {
          "output_type": "display_data",
          "data": {
            "text/plain": [
              "<Figure size 2000x800 with 1 Axes>"
            ],
            "image/png": "[encoded data removed]"
          },
          "metadata": {}
        }
      ]
    },
    {
      "cell_type": "code",
      "execution_count": null,
      "metadata": {
        "deletable": false,
        "editable": false,
        "nbgrader": {
          "cell_type": "code",
          "checksum": "97e1c557c7e019c69cc2714b055fb767",
          "grade": true,
          "grade_id": "cell-f5fa579a25122b47",
          "locked": true,
          "points": 1,
          "schema_version": 3,
          "solution": false,
          "task": false
        },
        "id": "M6LeKeyTPybf",
        "colab": {
          "base_uri": "https://localhost:8080/",
          "height": 201
        },
        "outputId": "64adc822-3ee7-4af6-d01b-3d05f351a936"
      },
      "outputs": [
        {
          "output_type": "error",
          "ename": "AssertionError",
          "evalue": "ignored",
          "traceback": [
            "\u001b[0;31m---------------------------------------------------------------------------\u001b[0m",
            "\u001b[0;31mAssertionError\u001b[0m                            Traceback (most recent call last)",
            "\u001b[0;32m<ipython-input-82-459f151cd6ce>\u001b[0m in \u001b[0;36m<cell line: 3>\u001b[0;34m()\u001b[0m\n\u001b[1;32m      1\u001b[0m \u001b[0;31m# Visible Testing\u001b[0m\u001b[0;34m\u001b[0m\u001b[0;34m\u001b[0m\u001b[0m\n\u001b[1;32m      2\u001b[0m \u001b[0;31m#assert visual_plot.__module__ == 'matplotlib.axes._subplots', \"You must create and assign to visual_plot a visualization\"\u001b[0m\u001b[0;34m\u001b[0m\u001b[0;34m\u001b[0m\u001b[0m\n\u001b[0;32m----> 3\u001b[0;31m \u001b[0;32massert\u001b[0m \u001b[0mvisual_plot\u001b[0m\u001b[0;34m.\u001b[0m\u001b[0m__module__\u001b[0m \u001b[0;34m==\u001b[0m \u001b[0;34m'visual_plot'\u001b[0m\u001b[0;34m,\u001b[0m \u001b[0;34m\"You must create and assign to visual_plot a visualization\"\u001b[0m\u001b[0;34m\u001b[0m\u001b[0;34m\u001b[0m\u001b[0m\n\u001b[0m",
            "\u001b[0;31mAssertionError\u001b[0m: You must create and assign to visual_plot a visualization"
          ]
        }
      ],
      "source": [
        "# Visible Testing\n",
        "assert visual_plot.__module__ == 'matplotlib.axes._subplots', \"You must create and assign to visual_plot a visualization\"\n"
      ]
    },
    {
      "cell_type": "markdown",
      "source": [],
      "metadata": {
        "id": "x1YPhRHMwhdT"
      }
    },
    {
      "cell_type": "markdown",
      "source": [
        "**SUMMARY OF THE TOPIC MODEL OF YELP REVIEWS**\n",
        "\n",
        "Latent Dirichlet Allocation (LDA) was applied to the the cleaned text reviews to break the submissions up into five different groups or topics based on common word patterns within each group. Group 1 and 2 overlapped as did 3 and 4 however 5 was on it's own far across the graph.\n",
        "*   Group 1 - restaurants that have a bar and bar menu\n",
        "*   Group 2 - picked up on chicken\n",
        "*   Group 3 - highly recommeneded, likely highest percentage of 5 stars\n",
        "*   Group 4 - top word is \"not\" and second \"good\" so likely the lower star reviews\n",
        "*   Group 5 - may have picked up some french, and could be hotel restaurants\n",
        "\n",
        "Running pyLDAvis to break the Reviews into Topics provides a list of the most common word of each Topic Group additionally. In this case it was the top 30 words. We can also see the percentage of Tokens from the full Corpus of Reviews each Topic Group was allocated.\n",
        "*   Group 1 - 31.5%\n",
        "*   Group 2 - 24.8%\n",
        "*   Group 3 - 22%\n",
        "*   Group 4 - 19.2%\n",
        "*   Group 5 - 2.5%\n",
        "\n",
        "With more time, further clean up would include removing words with 2 or less characters with the REGEX function and running a Coherance Model.\n",
        "\n",
        "\n",
        "\n",
        "\n",
        "\n",
        "\n",
        "\n",
        "\n",
        "\n",
        "\n",
        "\n",
        "\n"
      ],
      "metadata": {
        "id": "o8dK35MQwjtr"
      }
    }
  ],
  "metadata": {
    "kernel_info": {
      "name": "u4-s1-nlp"
    },
    "kernelspec": {
      "display_name": "Python 3.10.2 64-bit",
      "language": "python",
      "name": "python3"
    },
    "language_info": {
      "codemirror_mode": {
        "name": "ipython",
        "version": 3
      },
      "file_extension": ".py",
      "mimetype": "text/x-python",
      "name": "python",
      "nbconvert_exporter": "python",
      "pygments_lexer": "ipython3",
      "version": "3.10.2"
    },
    "nteract": {
      "version": "0.15.0"
    },
    "toc-autonumbering": false,
    "vscode": {
      "interpreter": {
        "hash": "aee8b7b246df8f9039afb4144a1f6fd8d2ca17a180786b69acc140d282b71a49"
      }
    },
    "colab": {
      "provenance": [],
      "include_colab_link": true
    }
  },
  "nbformat": 4,
  "nbformat_minor": 0
}